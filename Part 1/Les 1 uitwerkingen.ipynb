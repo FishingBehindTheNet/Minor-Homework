{
 "cells": [
  {
   "cell_type": "markdown",
   "id": "ecd6ffde-d807-4554-b648-238644d07e65",
   "metadata": {},
   "source": [
    "**Huiswerk les 1**"
   ]
  },
  {
   "cell_type": "code",
   "execution_count": 198,
   "id": "04318651-6138-4193-93f4-4f8c667e0b67",
   "metadata": {},
   "outputs": [
    {
     "data": {
      "text/plain": [
       "'1.4.2'"
      ]
     },
     "execution_count": 198,
     "metadata": {},
     "output_type": "execute_result"
    }
   ],
   "source": [
    "import pandas as pd\n",
    "pd.__version__"
   ]
  },
  {
   "cell_type": "markdown",
   "id": "8df78dd8-577b-4d7e-9eb0-187faaaeb875",
   "metadata": {
    "tags": []
   },
   "source": [
    "**Hoofdstuk 2**"
   ]
  },
  {
   "cell_type": "code",
   "execution_count": 199,
   "id": "37a87df9-fca8-4658-b402-11821962cf5f",
   "metadata": {},
   "outputs": [
    {
     "data": {
      "text/plain": [
       "42"
      ]
     },
     "execution_count": 199,
     "metadata": {},
     "output_type": "execute_result"
    }
   ],
   "source": [
    "myvar = 42\n",
    "myvar"
   ]
  },
  {
   "cell_type": "code",
   "execution_count": 200,
   "id": "ac0e10f4-939b-4f59-994a-a59be21d1a0d",
   "metadata": {},
   "outputs": [
    {
     "data": {
      "text/plain": [
       "2.259814049586777"
      ]
     },
     "execution_count": 200,
     "metadata": {},
     "output_type": "execute_result"
    }
   ],
   "source": [
    "H = 1.76\n",
    "W = 7\n",
    "BMI_Jeane = W / H ** 2\n",
    "BMI_Jeane"
   ]
  },
  {
   "cell_type": "code",
   "execution_count": 201,
   "id": "7e6c01f9-cba8-4b12-aa87-ba6aaf515c64",
   "metadata": {},
   "outputs": [
    {
     "name": "stdout",
     "output_type": "stream",
     "text": [
      "laagste BMI is 21.70138888888889\n",
      "Hoogste BMI is 22.395413419331717\n"
     ]
    }
   ],
   "source": [
    "Hc = 1.83\n",
    "Wc = 75\n",
    "BMI_Camiel = Wc / Hc ** 2\n",
    "\n",
    "Ht = 1.92\n",
    "Wt = 80\n",
    "BMI_Thorsten = Wt / Ht ** 2\n",
    "\n",
    "print(\"laagste BMI is\", min(BMI_Camiel, BMI_Thorsten))\n",
    "print(\"Hoogste BMI is\", max(BMI_Camiel, BMI_Thorsten))"
   ]
  },
  {
   "cell_type": "markdown",
   "id": "c5edb6d0-78ab-4c01-904e-127b468628cc",
   "metadata": {},
   "source": [
    "**Hoofdstuk 3**"
   ]
  },
  {
   "cell_type": "markdown",
   "id": "dc1df00b-3e70-422a-84cd-267a16770acc",
   "metadata": {},
   "source": [
    "we werken met data van het Centraal bureau voor Statestiek over de kippen boederijen van 2017"
   ]
  },
  {
   "cell_type": "code",
   "execution_count": 202,
   "id": "023a11ff-1c34-4034-aef0-837c4dabad5d",
   "metadata": {},
   "outputs": [
    {
     "data": {
      "text/html": [
       "<div>\n",
       "<style scoped>\n",
       "    .dataframe tbody tr th:only-of-type {\n",
       "        vertical-align: middle;\n",
       "    }\n",
       "\n",
       "    .dataframe tbody tr th {\n",
       "        vertical-align: top;\n",
       "    }\n",
       "\n",
       "    .dataframe thead th {\n",
       "        text-align: right;\n",
       "    }\n",
       "</style>\n",
       "<table border=\"1\" class=\"dataframe\">\n",
       "  <thead>\n",
       "    <tr style=\"text-align: right;\">\n",
       "      <th></th>\n",
       "      <th>farms</th>\n",
       "      <th>chickens</th>\n",
       "    </tr>\n",
       "  </thead>\n",
       "  <tbody>\n",
       "    <tr>\n",
       "      <th>count</th>\n",
       "      <td>62.000000</td>\n",
       "      <td>6.200000e+01</td>\n",
       "    </tr>\n",
       "    <tr>\n",
       "      <th>mean</th>\n",
       "      <td>6.935484</td>\n",
       "      <td>4.501999e+05</td>\n",
       "    </tr>\n",
       "    <tr>\n",
       "      <th>std</th>\n",
       "      <td>7.201710</td>\n",
       "      <td>5.399613e+05</td>\n",
       "    </tr>\n",
       "    <tr>\n",
       "      <th>min</th>\n",
       "      <td>0.000000</td>\n",
       "      <td>0.000000e+00</td>\n",
       "    </tr>\n",
       "    <tr>\n",
       "      <th>25%</th>\n",
       "      <td>2.000000</td>\n",
       "      <td>7.272750e+04</td>\n",
       "    </tr>\n",
       "    <tr>\n",
       "      <th>50%</th>\n",
       "      <td>4.500000</td>\n",
       "      <td>2.800745e+05</td>\n",
       "    </tr>\n",
       "    <tr>\n",
       "      <th>75%</th>\n",
       "      <td>10.000000</td>\n",
       "      <td>5.689490e+05</td>\n",
       "    </tr>\n",
       "    <tr>\n",
       "      <th>max</th>\n",
       "      <td>31.000000</td>\n",
       "      <td>2.752468e+06</td>\n",
       "    </tr>\n",
       "  </tbody>\n",
       "</table>\n",
       "</div>"
      ],
      "text/plain": [
       "           farms      chickens\n",
       "count  62.000000  6.200000e+01\n",
       "mean    6.935484  4.501999e+05\n",
       "std     7.201710  5.399613e+05\n",
       "min     0.000000  0.000000e+00\n",
       "25%     2.000000  7.272750e+04\n",
       "50%     4.500000  2.800745e+05\n",
       "75%    10.000000  5.689490e+05\n",
       "max    31.000000  2.752468e+06"
      ]
     },
     "execution_count": 202,
     "metadata": {},
     "output_type": "execute_result"
    }
   ],
   "source": [
    "kippen_df = pd.read_excel('chickenfarms.xls', nrows=62, header=1, index_col=0)\n",
    "kippen_df.columns = ['farms', 'chickens']\n",
    "kippen_df.describe()"
   ]
  },
  {
   "cell_type": "code",
   "execution_count": 203,
   "id": "8c62d965-ee45-4cd1-a454-23b0b102d16b",
   "metadata": {},
   "outputs": [
    {
     "name": "stdout",
     "output_type": "stream",
     "text": [
      "<class 'pandas.core.frame.DataFrame'>\n",
      "Index: 62 entries, Alphen-Chaam to Zundert\n",
      "Data columns (total 2 columns):\n",
      " #   Column    Non-Null Count  Dtype\n",
      "---  ------    --------------  -----\n",
      " 0   farms     62 non-null     int64\n",
      " 1   chickens  62 non-null     int64\n",
      "dtypes: int64(2)\n",
      "memory usage: 1.5+ KB\n"
     ]
    }
   ],
   "source": [
    "kippen_df.info(verbose=True)"
   ]
  },
  {
   "cell_type": "code",
   "execution_count": 204,
   "id": "57600976-97b9-4ef5-a083-b61a4d5f1d17",
   "metadata": {},
   "outputs": [
    {
     "data": {
      "text/html": [
       "<div>\n",
       "<style scoped>\n",
       "    .dataframe tbody tr th:only-of-type {\n",
       "        vertical-align: middle;\n",
       "    }\n",
       "\n",
       "    .dataframe tbody tr th {\n",
       "        vertical-align: top;\n",
       "    }\n",
       "\n",
       "    .dataframe thead th {\n",
       "        text-align: right;\n",
       "    }\n",
       "</style>\n",
       "<table border=\"1\" class=\"dataframe\">\n",
       "  <thead>\n",
       "    <tr style=\"text-align: right;\">\n",
       "      <th></th>\n",
       "      <th>farms</th>\n",
       "      <th>chickens</th>\n",
       "    </tr>\n",
       "  </thead>\n",
       "  <tbody>\n",
       "    <tr>\n",
       "      <th>Alphen-Chaam</th>\n",
       "      <td>10</td>\n",
       "      <td>1182585</td>\n",
       "    </tr>\n",
       "    <tr>\n",
       "      <th>Altena</th>\n",
       "      <td>7</td>\n",
       "      <td>303925</td>\n",
       "    </tr>\n",
       "    <tr>\n",
       "      <th>Asten</th>\n",
       "      <td>19</td>\n",
       "      <td>1350546</td>\n",
       "    </tr>\n",
       "    <tr>\n",
       "      <th>Baarle-Nassau</th>\n",
       "      <td>5</td>\n",
       "      <td>384568</td>\n",
       "    </tr>\n",
       "    <tr>\n",
       "      <th>Bergeijk</th>\n",
       "      <td>11</td>\n",
       "      <td>908843</td>\n",
       "    </tr>\n",
       "  </tbody>\n",
       "</table>\n",
       "</div>"
      ],
      "text/plain": [
       "               farms  chickens\n",
       "Alphen-Chaam      10   1182585\n",
       "Altena             7    303925\n",
       "Asten             19   1350546\n",
       "Baarle-Nassau      5    384568\n",
       "Bergeijk          11    908843"
      ]
     },
     "execution_count": 204,
     "metadata": {},
     "output_type": "execute_result"
    }
   ],
   "source": [
    "kippen_df.head(5)"
   ]
  },
  {
   "cell_type": "code",
   "execution_count": 205,
   "id": "acd0da5c-9c02-4024-8a09-1865517075ce",
   "metadata": {},
   "outputs": [
    {
     "data": {
      "text/html": [
       "<div>\n",
       "<style scoped>\n",
       "    .dataframe tbody tr th:only-of-type {\n",
       "        vertical-align: middle;\n",
       "    }\n",
       "\n",
       "    .dataframe tbody tr th {\n",
       "        vertical-align: top;\n",
       "    }\n",
       "\n",
       "    .dataframe thead th {\n",
       "        text-align: right;\n",
       "    }\n",
       "</style>\n",
       "<table border=\"1\" class=\"dataframe\">\n",
       "  <thead>\n",
       "    <tr style=\"text-align: right;\">\n",
       "      <th></th>\n",
       "      <th>farms</th>\n",
       "      <th>chickens</th>\n",
       "    </tr>\n",
       "  </thead>\n",
       "  <tbody>\n",
       "    <tr>\n",
       "      <th>Steenbergen</th>\n",
       "      <td>7</td>\n",
       "      <td>206520</td>\n",
       "    </tr>\n",
       "    <tr>\n",
       "      <th>Tilburg</th>\n",
       "      <td>2</td>\n",
       "      <td>88050</td>\n",
       "    </tr>\n",
       "    <tr>\n",
       "      <th>Uden</th>\n",
       "      <td>15</td>\n",
       "      <td>1024316</td>\n",
       "    </tr>\n",
       "    <tr>\n",
       "      <th>Valkenswaard</th>\n",
       "      <td>2</td>\n",
       "      <td>21300</td>\n",
       "    </tr>\n",
       "    <tr>\n",
       "      <th>Veldhoven</th>\n",
       "      <td>2</td>\n",
       "      <td>64587</td>\n",
       "    </tr>\n",
       "    <tr>\n",
       "      <th>Vught</th>\n",
       "      <td>0</td>\n",
       "      <td>0</td>\n",
       "    </tr>\n",
       "    <tr>\n",
       "      <th>Waalre</th>\n",
       "      <td>0</td>\n",
       "      <td>0</td>\n",
       "    </tr>\n",
       "    <tr>\n",
       "      <th>Waalwijk</th>\n",
       "      <td>0</td>\n",
       "      <td>0</td>\n",
       "    </tr>\n",
       "    <tr>\n",
       "      <th>Woensdrecht</th>\n",
       "      <td>2</td>\n",
       "      <td>136579</td>\n",
       "    </tr>\n",
       "    <tr>\n",
       "      <th>Zundert</th>\n",
       "      <td>6</td>\n",
       "      <td>790954</td>\n",
       "    </tr>\n",
       "  </tbody>\n",
       "</table>\n",
       "</div>"
      ],
      "text/plain": [
       "              farms  chickens\n",
       "Steenbergen       7    206520\n",
       "Tilburg           2     88050\n",
       "Uden             15   1024316\n",
       "Valkenswaard      2     21300\n",
       "Veldhoven         2     64587\n",
       "Vught             0         0\n",
       "Waalre            0         0\n",
       "Waalwijk          0         0\n",
       "Woensdrecht       2    136579\n",
       "Zundert           6    790954"
      ]
     },
     "execution_count": 205,
     "metadata": {},
     "output_type": "execute_result"
    }
   ],
   "source": [
    "kippen_df.tail(10)"
   ]
  },
  {
   "cell_type": "code",
   "execution_count": 206,
   "id": "bf590ea5-b674-45fb-9365-5f0e95ce106b",
   "metadata": {},
   "outputs": [
    {
     "data": {
      "text/plain": [
       "(62, 2)"
      ]
     },
     "execution_count": 206,
     "metadata": {},
     "output_type": "execute_result"
    }
   ],
   "source": [
    "kippen_df.shape"
   ]
  },
  {
   "cell_type": "code",
   "execution_count": 207,
   "id": "90c40a27-723a-4e4a-9908-fbfffd5aa6fe",
   "metadata": {},
   "outputs": [
    {
     "name": "stdout",
     "output_type": "stream",
     "text": [
      "Sjoerd Barten (3, 1, 4, 1)\n"
     ]
    }
   ],
   "source": [
    "List_1 = ()\n",
    "list_2 = \"Sjoerd Barten\"\n",
    "list_3 = 3,1,4,1\n",
    "print(list_2, list_3)"
   ]
  },
  {
   "cell_type": "code",
   "execution_count": 208,
   "id": "10784505-ae44-4282-bfe8-977da16833d7",
   "metadata": {},
   "outputs": [
    {
     "data": {
      "text/plain": [
       "43737.0"
      ]
     },
     "execution_count": 208,
     "metadata": {},
     "output_type": "execute_result"
    }
   ],
   "source": [
    "kippen_df.loc['Meierijstad', 'chickens']/kippen_df.loc['Meierijstad', 'farms']"
   ]
  },
  {
   "cell_type": "code",
   "execution_count": 209,
   "id": "6c0e2e84-e1f1-40e1-b597-bbd5c83cb694",
   "metadata": {
    "tags": []
   },
   "outputs": [
    {
     "data": {
      "text/plain": [
       "Geertruidenberg     90000\n",
       "Steenbergen        206520\n",
       "Moerdijk           301555\n",
       "Name: chickens, dtype: int64"
      ]
     },
     "execution_count": 209,
     "metadata": {},
     "output_type": "execute_result"
    }
   ],
   "source": [
    "kippen_df.loc[['Geertruidenberg', 'Steenbergen', 'Moerdijk'], 'chickens']\n",
    "#Dus moerdijk heeft de meeste kippen"
   ]
  },
  {
   "cell_type": "code",
   "execution_count": 210,
   "id": "801a9931-b474-48cd-b6cf-e97022339e3a",
   "metadata": {},
   "outputs": [
    {
     "data": {
      "text/plain": [
       "count    62.000000\n",
       "mean      6.935484\n",
       "std       7.201710\n",
       "min       0.000000\n",
       "25%       2.000000\n",
       "50%       4.500000\n",
       "75%      10.000000\n",
       "max      31.000000\n",
       "Name: farms, dtype: float64"
      ]
     },
     "execution_count": 210,
     "metadata": {},
     "output_type": "execute_result"
    }
   ],
   "source": [
    "farms = kippen_df.loc[:, 'farms']\n",
    "farms.describe()"
   ]
  },
  {
   "cell_type": "code",
   "execution_count": 211,
   "id": "7416fbb4-3a09-44f3-8675-d11759888764",
   "metadata": {},
   "outputs": [
    {
     "data": {
      "text/plain": [
       "count    6.200000e+01\n",
       "mean     4.501999e+05\n",
       "std      5.399613e+05\n",
       "min      0.000000e+00\n",
       "25%      7.272750e+04\n",
       "50%      2.800745e+05\n",
       "75%      5.689490e+05\n",
       "max      2.752468e+06\n",
       "Name: chickens, dtype: float64"
      ]
     },
     "execution_count": 211,
     "metadata": {},
     "output_type": "execute_result"
    }
   ],
   "source": [
    "chickens = kippen_df.loc[:, 'chickens']\n",
    "chickens.describe()"
   ]
  },
  {
   "cell_type": "code",
   "execution_count": 212,
   "id": "e866b853-4a77-48aa-ac5e-d24c229bf401",
   "metadata": {},
   "outputs": [
    {
     "name": "stdout",
     "output_type": "stream",
     "text": [
      "De gemeente met de meeste kippenboederijen is Someren met 31 boederijen en 2752468 kippen\n",
      "\n",
      "Er waren 27912392 kippen in Noord-Brabant in 2017\n",
      "\n",
      "De gemeente met de minste kippen is Breda met 2752468 kippen verdeeld over 31 boederijen\n",
      "\n",
      "De 5 gemeenstens met de meeste kippen zijn:\n",
      "Someren         2752468\n",
      "Bernheze        2379370\n",
      "Boxmeer         1443935\n",
      "Asten           1350546\n",
      "Alphen-Chaam    1182585\n",
      "Name: chickens, dtype: int64\n"
     ]
    }
   ],
   "source": [
    "#What is the largest number of farms in a single municipality?\n",
    "print('De gemeente met de meeste kippenboederijen is', farms.idxmax(), 'met', farms.max(),  'boederijen en', chickens[farms.idxmax()], 'kippen')\n",
    "print()\n",
    "#How many chickens were commercially held in the province of Noord-Brabant in 2017?\n",
    "print('Er waren', chickens.sum(), 'kippen in Noord-Brabant in 2017')\n",
    "print()\n",
    "#Which municipality has the fewest chickens?\n",
    "print('De gemeente met de minste kippen is', chickens.idxmin(), 'met', chickens[farms.idxmax()], 'kippen verdeeld over', farms[chickens.idxmax()], 'boederijen')\n",
    "print()\n",
    "#What are the five municipalities with the largest number of chickens.\n",
    "print('De 5 gemeenstens met de meeste kippen zijn:')\n",
    "print(chickens.nlargest(5))"
   ]
  },
  {
   "cell_type": "code",
   "execution_count": 213,
   "id": "3d2f7e25-e4b5-4d7e-9fec-aa657fca604c",
   "metadata": {},
   "outputs": [
    {
     "data": {
      "text/plain": [
       "<AxesSubplot:>"
      ]
     },
     "execution_count": 213,
     "metadata": {},
     "output_type": "execute_result"
    },
    {
     "data": {
      "image/png": "[encoded data removed]",
      "text/plain": [
       "<Figure size 720x432 with 1 Axes>"
      ]
     },
     "metadata": {
      "needs_background": "light"
     },
     "output_type": "display_data"
    }
   ],
   "source": [
    "farms.plot(kind='bar',\n",
    "           figsize=[10,6],\n",
    "           fontsize=9)"
   ]
  },
  {
   "cell_type": "code",
   "execution_count": 214,
   "id": "486edff0-d1df-46ff-ae43-aa4fefa8dade",
   "metadata": {},
   "outputs": [
    {
     "data": {
      "text/plain": [
       "<AxesSubplot:>"
      ]
     },
     "execution_count": 214,
     "metadata": {},
     "output_type": "execute_result"
    },
    {
     "data": {
      "image/png": "[encoded data removed]",
      "text/plain": [
       "<Figure size 432x720 with 1 Axes>"
      ]
     },
     "metadata": {
      "needs_background": "light"
     },
     "output_type": "display_data"
    }
   ],
   "source": [
    "chickens.plot(\n",
    "           kind='barh',\n",
    "           figsize=[6,10],\n",
    "           fontsize=9)"
   ]
  },
  {
   "cell_type": "code",
   "execution_count": 215,
   "id": "bc2f98bb-817c-4235-9685-0b474ad9b147",
   "metadata": {},
   "outputs": [
    {
     "data": {
      "text/plain": [
       "<AxesSubplot:ylabel='Frequency'>"
      ]
     },
     "execution_count": 215,
     "metadata": {},
     "output_type": "execute_result"
    },
    {
     "data": {
      "image/png": "[encoded data removed]",
      "text/plain": [
       "<Figure size 720x432 with 1 Axes>"
      ]
     },
     "metadata": {
      "needs_background": "light"
     },
     "output_type": "display_data"
    }
   ],
   "source": [
    "farms.plot(\n",
    "    kind='hist',\n",
    "    figsize= [10, 6],\n",
    "    fontsize= 9)"
   ]
  },
  {
   "cell_type": "code",
   "execution_count": 216,
   "id": "2db59f63-d065-4bd3-913f-af994c53255a",
   "metadata": {},
   "outputs": [
    {
     "data": {
      "text/plain": [
       "count        56.000000\n",
       "mean      62179.112710\n",
       "std       32823.643102\n",
       "min         117.500000\n",
       "25%       43461.805195\n",
       "50%       56485.000000\n",
       "75%       79538.902778\n",
       "max      160125.000000\n",
       "dtype: float64"
      ]
     },
     "execution_count": 216,
     "metadata": {},
     "output_type": "execute_result"
    }
   ],
   "source": [
    "avgchick = chickens/farms\n",
    "avgchick.describe()"
   ]
  },
  {
   "cell_type": "code",
   "execution_count": 217,
   "id": "7c48678b-929c-4cd4-a06e-bbd8467c2f8a",
   "metadata": {},
   "outputs": [
    {
     "data": {
      "text/html": [
       "<div>\n",
       "<style scoped>\n",
       "    .dataframe tbody tr th:only-of-type {\n",
       "        vertical-align: middle;\n",
       "    }\n",
       "\n",
       "    .dataframe tbody tr th {\n",
       "        vertical-align: top;\n",
       "    }\n",
       "\n",
       "    .dataframe thead th {\n",
       "        text-align: right;\n",
       "    }\n",
       "</style>\n",
       "<table border=\"1\" class=\"dataframe\">\n",
       "  <thead>\n",
       "    <tr style=\"text-align: right;\">\n",
       "      <th></th>\n",
       "      <th>farms</th>\n",
       "      <th>chickens</th>\n",
       "      <th>avgchick</th>\n",
       "      <th>MSCS</th>\n",
       "    </tr>\n",
       "  </thead>\n",
       "  <tbody>\n",
       "    <tr>\n",
       "      <th>Alphen-Chaam</th>\n",
       "      <td>10</td>\n",
       "      <td>1182585</td>\n",
       "      <td>118258.500000</td>\n",
       "      <td>7.150481</td>\n",
       "    </tr>\n",
       "    <tr>\n",
       "      <th>Altena</th>\n",
       "      <td>7</td>\n",
       "      <td>303925</td>\n",
       "      <td>43417.857143</td>\n",
       "      <td>75.781848</td>\n",
       "    </tr>\n",
       "    <tr>\n",
       "      <th>Asten</th>\n",
       "      <td>19</td>\n",
       "      <td>1350546</td>\n",
       "      <td>71081.368421</td>\n",
       "      <td>10.416812</td>\n",
       "    </tr>\n",
       "    <tr>\n",
       "      <th>Baarle-Nassau</th>\n",
       "      <td>5</td>\n",
       "      <td>384568</td>\n",
       "      <td>76913.600000</td>\n",
       "      <td>33.808330</td>\n",
       "    </tr>\n",
       "    <tr>\n",
       "      <th>Bergeijk</th>\n",
       "      <td>11</td>\n",
       "      <td>908843</td>\n",
       "      <td>82622.090909</td>\n",
       "      <td>13.317262</td>\n",
       "    </tr>\n",
       "    <tr>\n",
       "      <th>...</th>\n",
       "      <td>...</td>\n",
       "      <td>...</td>\n",
       "      <td>...</td>\n",
       "      <td>...</td>\n",
       "    </tr>\n",
       "    <tr>\n",
       "      <th>Vught</th>\n",
       "      <td>0</td>\n",
       "      <td>0</td>\n",
       "      <td>NaN</td>\n",
       "      <td>NaN</td>\n",
       "    </tr>\n",
       "    <tr>\n",
       "      <th>Waalre</th>\n",
       "      <td>0</td>\n",
       "      <td>0</td>\n",
       "      <td>NaN</td>\n",
       "      <td>NaN</td>\n",
       "    </tr>\n",
       "    <tr>\n",
       "      <th>Waalwijk</th>\n",
       "      <td>0</td>\n",
       "      <td>0</td>\n",
       "      <td>NaN</td>\n",
       "      <td>NaN</td>\n",
       "    </tr>\n",
       "    <tr>\n",
       "      <th>Woensdrecht</th>\n",
       "      <td>2</td>\n",
       "      <td>136579</td>\n",
       "      <td>68289.500000</td>\n",
       "      <td>107.216627</td>\n",
       "    </tr>\n",
       "    <tr>\n",
       "      <th>Zundert</th>\n",
       "      <td>6</td>\n",
       "      <td>790954</td>\n",
       "      <td>131825.666667</td>\n",
       "      <td>9.590667</td>\n",
       "    </tr>\n",
       "  </tbody>\n",
       "</table>\n",
       "<p>62 rows × 4 columns</p>\n",
       "</div>"
      ],
      "text/plain": [
       "               farms  chickens       avgchick        MSCS\n",
       "Alphen-Chaam      10   1182585  118258.500000    7.150481\n",
       "Altena             7    303925   43417.857143   75.781848\n",
       "Asten             19   1350546   71081.368421   10.416812\n",
       "Baarle-Nassau      5    384568   76913.600000   33.808330\n",
       "Bergeijk          11    908843   82622.090909   13.317262\n",
       "...              ...       ...            ...         ...\n",
       "Vught              0         0            NaN         NaN\n",
       "Waalre             0         0            NaN         NaN\n",
       "Waalwijk           0         0            NaN         NaN\n",
       "Woensdrecht        2    136579   68289.500000  107.216627\n",
       "Zundert            6    790954  131825.666667    9.590667\n",
       "\n",
       "[62 rows x 4 columns]"
      ]
     },
     "execution_count": 217,
     "metadata": {},
     "output_type": "execute_result"
    }
   ],
   "source": [
    "kippen_df.loc[:, 'avgchick'] = avgchick\n",
    "kippen_df.loc[:, 'MSCS'] = farms/(chickens/1000000)**2\n",
    "kippen_df"
   ]
  },
  {
   "cell_type": "code",
   "execution_count": 218,
   "id": "61c3ced4-2ff4-4a4c-8d02-2c52c388647f",
   "metadata": {},
   "outputs": [
    {
     "name": "stdout",
     "output_type": "stream",
     "text": [
      "De gemeente met de laagste MSCS is Someren met een score van 4.091825802729862\n",
      "\n",
      "De gemeente met de hoogste MSCS is Bergen op Zoom met een score van 36215482.1186057\n"
     ]
    }
   ],
   "source": [
    "print('De gemeente met de laagste MSCS is', kippen_df.MSCS.idxmin(), 'met een score van', kippen_df.MSCS.min())\n",
    "print()\n",
    "print('De gemeente met de hoogste MSCS is', kippen_df.MSCS.idxmax(), 'met een score van', kippen_df.MSCS.max())"
   ]
  },
  {
   "cell_type": "code",
   "execution_count": 219,
   "id": "a1d9a189-2066-4142-a65b-cc869c26dfe1",
   "metadata": {},
   "outputs": [
    {
     "data": {
      "text/html": [
       "<div>\n",
       "<style scoped>\n",
       "    .dataframe tbody tr th:only-of-type {\n",
       "        vertical-align: middle;\n",
       "    }\n",
       "\n",
       "    .dataframe tbody tr th {\n",
       "        vertical-align: top;\n",
       "    }\n",
       "\n",
       "    .dataframe thead th {\n",
       "        text-align: right;\n",
       "    }\n",
       "</style>\n",
       "<table border=\"1\" class=\"dataframe\">\n",
       "  <thead>\n",
       "    <tr style=\"text-align: right;\">\n",
       "      <th></th>\n",
       "      <th>farms</th>\n",
       "      <th>chickens</th>\n",
       "      <th>avgchick</th>\n",
       "      <th>MSCS</th>\n",
       "    </tr>\n",
       "  </thead>\n",
       "  <tbody>\n",
       "    <tr>\n",
       "      <th>Breda</th>\n",
       "      <td>0</td>\n",
       "      <td>0</td>\n",
       "      <td>NaN</td>\n",
       "      <td>NaN</td>\n",
       "    </tr>\n",
       "    <tr>\n",
       "      <th>Dongen</th>\n",
       "      <td>0</td>\n",
       "      <td>0</td>\n",
       "      <td>NaN</td>\n",
       "      <td>NaN</td>\n",
       "    </tr>\n",
       "    <tr>\n",
       "      <th>s-Hertogenbosch</th>\n",
       "      <td>0</td>\n",
       "      <td>0</td>\n",
       "      <td>NaN</td>\n",
       "      <td>NaN</td>\n",
       "    </tr>\n",
       "    <tr>\n",
       "      <th>Vught</th>\n",
       "      <td>0</td>\n",
       "      <td>0</td>\n",
       "      <td>NaN</td>\n",
       "      <td>NaN</td>\n",
       "    </tr>\n",
       "    <tr>\n",
       "      <th>Waalre</th>\n",
       "      <td>0</td>\n",
       "      <td>0</td>\n",
       "      <td>NaN</td>\n",
       "      <td>NaN</td>\n",
       "    </tr>\n",
       "    <tr>\n",
       "      <th>Waalwijk</th>\n",
       "      <td>0</td>\n",
       "      <td>0</td>\n",
       "      <td>NaN</td>\n",
       "      <td>NaN</td>\n",
       "    </tr>\n",
       "  </tbody>\n",
       "</table>\n",
       "</div>"
      ],
      "text/plain": [
       "                 farms  chickens  avgchick  MSCS\n",
       "Breda                0         0       NaN   NaN\n",
       "Dongen               0         0       NaN   NaN\n",
       "s-Hertogenbosch      0         0       NaN   NaN\n",
       "Vught                0         0       NaN   NaN\n",
       "Waalre               0         0       NaN   NaN\n",
       "Waalwijk             0         0       NaN   NaN"
      ]
     },
     "execution_count": 219,
     "metadata": {},
     "output_type": "execute_result"
    }
   ],
   "source": [
    "no_farm = farms == 0\n",
    "kippen_df.loc[no_farm,:]"
   ]
  },
  {
   "cell_type": "code",
   "execution_count": 220,
   "id": "c2cc7457-0b39-4b8e-b201-8e0e7e0205b8",
   "metadata": {},
   "outputs": [
    {
     "name": "stdout",
     "output_type": "stream",
     "text": [
      "9262710\n"
     ]
    }
   ],
   "source": [
    "few_farms= farms < 10\n",
    "print(chickens.loc[few_farms].sum())"
   ]
  },
  {
   "cell_type": "code",
   "execution_count": 221,
   "id": "c0fe5986-e3e3-49f7-8697-de12f9771d17",
   "metadata": {},
   "outputs": [
    {
     "name": "stdout",
     "output_type": "stream",
     "text": [
      "Bernheze           30\n",
      "Breda               0\n",
      "Dongen              0\n",
      "Etten-Leur          1\n",
      "Geertruidenberg     1\n",
      "Geldrop-Mierlo      1\n",
      "Helmond             1\n",
      "Meierijstad        26\n",
      "s-Hertogenbosch     0\n",
      "Someren            31\n",
      "Vught               0\n",
      "Waalre              0\n",
      "Waalwijk            0\n",
      "Name: farms, dtype: int64\n"
     ]
    }
   ],
   "source": [
    "print(farms.loc[(farms == 0) | (farms == 1) | (farms > 25)])"
   ]
  },
  {
   "cell_type": "markdown",
   "id": "64751191-8e46-495f-b749-e192345b7956",
   "metadata": {},
   "source": [
    "**Hoofdstuk 4**"
   ]
  },
  {
   "cell_type": "code",
   "execution_count": 222,
   "id": "370070ed-6796-4282-9448-f0976066afe8",
   "metadata": {},
   "outputs": [
    {
     "data": {
      "text/plain": [
       "'Someren'"
      ]
     },
     "execution_count": 222,
     "metadata": {},
     "output_type": "execute_result"
    }
   ],
   "source": [
    "farms_10plus = farms > 10\n",
    "kippen_df.loc[farms_10plus,:].avgchick.idxmax()\n"
   ]
  },
  {
   "cell_type": "code",
   "execution_count": 223,
   "id": "87271b28-d102-4a3a-8aaf-256373cd597b",
   "metadata": {},
   "outputs": [
    {
     "name": "stdout",
     "output_type": "stream",
     "text": [
      "Alphen-Chaam     1182585\n",
      "Bergeijk          908843\n",
      "Deurne            953200\n",
      "Eersel            867378\n",
      "Gemert-Bakel      814205\n",
      "Meierijstad      1137162\n",
      "Oirschot          965214\n",
      "Sint Anthonis     933833\n",
      "Uden             1024316\n",
      "Zundert           790954\n",
      "Name: chickens, dtype: int64\n"
     ]
    }
   ],
   "source": [
    "mid_chick = (chickens.loc[(chickens > 700000) & (chickens < 5000000)])\n",
    "print(mid_chick.loc[(mid_chick < mid_chick.mean())])\n"
   ]
  },
  {
   "cell_type": "code",
   "execution_count": 224,
   "id": "cfb1ee58",
   "metadata": {},
   "outputs": [
    {
     "data": {
      "text/plain": [
       "1250286.357142857"
      ]
     },
     "execution_count": 224,
     "metadata": {},
     "output_type": "execute_result"
    }
   ],
   "source": [
    "mid_chick.mean()"
   ]
  },
  {
   "cell_type": "code",
   "execution_count": 225,
   "id": "a036eb1b",
   "metadata": {},
   "outputs": [
    {
     "data": {
      "text/html": [
       "<div>\n",
       "<style scoped>\n",
       "    .dataframe tbody tr th:only-of-type {\n",
       "        vertical-align: middle;\n",
       "    }\n",
       "\n",
       "    .dataframe tbody tr th {\n",
       "        vertical-align: top;\n",
       "    }\n",
       "\n",
       "    .dataframe thead th {\n",
       "        text-align: right;\n",
       "    }\n",
       "</style>\n",
       "<table border=\"1\" class=\"dataframe\">\n",
       "  <thead>\n",
       "    <tr style=\"text-align: right;\">\n",
       "      <th></th>\n",
       "      <th>farms</th>\n",
       "      <th>chickens</th>\n",
       "      <th>avgchick</th>\n",
       "      <th>MSCS</th>\n",
       "    </tr>\n",
       "  </thead>\n",
       "  <tbody>\n",
       "    <tr>\n",
       "      <th>Alphen-Chaam</th>\n",
       "      <td>10</td>\n",
       "      <td>1182585</td>\n",
       "      <td>118258.500000</td>\n",
       "      <td>7.150481</td>\n",
       "    </tr>\n",
       "    <tr>\n",
       "      <th>Altena</th>\n",
       "      <td>7</td>\n",
       "      <td>303925</td>\n",
       "      <td>43417.857143</td>\n",
       "      <td>75.781848</td>\n",
       "    </tr>\n",
       "    <tr>\n",
       "      <th>Asten</th>\n",
       "      <td>19</td>\n",
       "      <td>1350546</td>\n",
       "      <td>71081.368421</td>\n",
       "      <td>10.416812</td>\n",
       "    </tr>\n",
       "    <tr>\n",
       "      <th>Baarle-Nassau</th>\n",
       "      <td>5</td>\n",
       "      <td>384568</td>\n",
       "      <td>76913.600000</td>\n",
       "      <td>33.808330</td>\n",
       "    </tr>\n",
       "    <tr>\n",
       "      <th>Bergeijk</th>\n",
       "      <td>11</td>\n",
       "      <td>908843</td>\n",
       "      <td>82622.090909</td>\n",
       "      <td>13.317262</td>\n",
       "    </tr>\n",
       "    <tr>\n",
       "      <th>...</th>\n",
       "      <td>...</td>\n",
       "      <td>...</td>\n",
       "      <td>...</td>\n",
       "      <td>...</td>\n",
       "    </tr>\n",
       "    <tr>\n",
       "      <th>Vught</th>\n",
       "      <td>0</td>\n",
       "      <td>0</td>\n",
       "      <td>NaN</td>\n",
       "      <td>NaN</td>\n",
       "    </tr>\n",
       "    <tr>\n",
       "      <th>Waalre</th>\n",
       "      <td>0</td>\n",
       "      <td>0</td>\n",
       "      <td>NaN</td>\n",
       "      <td>NaN</td>\n",
       "    </tr>\n",
       "    <tr>\n",
       "      <th>Waalwijk</th>\n",
       "      <td>0</td>\n",
       "      <td>0</td>\n",
       "      <td>NaN</td>\n",
       "      <td>NaN</td>\n",
       "    </tr>\n",
       "    <tr>\n",
       "      <th>Woensdrecht</th>\n",
       "      <td>2</td>\n",
       "      <td>136579</td>\n",
       "      <td>68289.500000</td>\n",
       "      <td>107.216627</td>\n",
       "    </tr>\n",
       "    <tr>\n",
       "      <th>Zundert</th>\n",
       "      <td>6</td>\n",
       "      <td>790954</td>\n",
       "      <td>131825.666667</td>\n",
       "      <td>9.590667</td>\n",
       "    </tr>\n",
       "  </tbody>\n",
       "</table>\n",
       "<p>62 rows × 4 columns</p>\n",
       "</div>"
      ],
      "text/plain": [
       "               farms  chickens       avgchick        MSCS\n",
       "Alphen-Chaam      10   1182585  118258.500000    7.150481\n",
       "Altena             7    303925   43417.857143   75.781848\n",
       "Asten             19   1350546   71081.368421   10.416812\n",
       "Baarle-Nassau      5    384568   76913.600000   33.808330\n",
       "Bergeijk          11    908843   82622.090909   13.317262\n",
       "...              ...       ...            ...         ...\n",
       "Vught              0         0            NaN         NaN\n",
       "Waalre             0         0            NaN         NaN\n",
       "Waalwijk           0         0            NaN         NaN\n",
       "Woensdrecht        2    136579   68289.500000  107.216627\n",
       "Zundert            6    790954  131825.666667    9.590667\n",
       "\n",
       "[62 rows x 4 columns]"
      ]
     },
     "execution_count": 225,
     "metadata": {},
     "output_type": "execute_result"
    }
   ],
   "source": [
    "kippen_df"
   ]
  },
  {
   "cell_type": "code",
   "execution_count": 226,
   "id": "93ec00a4",
   "metadata": {},
   "outputs": [
    {
     "data": {
      "text/plain": [
       "<AxesSubplot:title={'center':'Farms versus Chickens'}, xlabel='farms', ylabel='chickens'>"
      ]
     },
     "execution_count": 226,
     "metadata": {},
     "output_type": "execute_result"
    },
    {
     "data": {
      "image/png": "[encoded data removed]",
      "text/plain": [
       "<Figure size 360x360 with 1 Axes>"
      ]
     },
     "metadata": {
      "needs_background": "light"
     },
     "output_type": "display_data"
    }
   ],
   "source": [
    "kippen_df.plot(\n",
    "    x = 'farms',\n",
    "    y= 'chickens',\n",
    "    kind = 'scatter',\n",
    "    figsize = (5,5),\n",
    "    title = 'Farms versus Chickens'\n",
    ")"
   ]
  },
  {
   "cell_type": "code",
   "execution_count": 227,
   "id": "1a926ef2",
   "metadata": {},
   "outputs": [
    {
     "data": {
      "text/html": [
       "<div>\n",
       "<style scoped>\n",
       "    .dataframe tbody tr th:only-of-type {\n",
       "        vertical-align: middle;\n",
       "    }\n",
       "\n",
       "    .dataframe tbody tr th {\n",
       "        vertical-align: top;\n",
       "    }\n",
       "\n",
       "    .dataframe thead th {\n",
       "        text-align: right;\n",
       "    }\n",
       "</style>\n",
       "<table border=\"1\" class=\"dataframe\">\n",
       "  <thead>\n",
       "    <tr style=\"text-align: right;\">\n",
       "      <th></th>\n",
       "      <th>farms</th>\n",
       "      <th>chickens</th>\n",
       "      <th>avgchick</th>\n",
       "      <th>MSCS</th>\n",
       "    </tr>\n",
       "  </thead>\n",
       "  <tbody>\n",
       "    <tr>\n",
       "      <th>Alphen-Chaam</th>\n",
       "      <td>10</td>\n",
       "      <td>1182585</td>\n",
       "      <td>118258.500000</td>\n",
       "      <td>7.150481</td>\n",
       "    </tr>\n",
       "    <tr>\n",
       "      <th>Altena</th>\n",
       "      <td>7</td>\n",
       "      <td>303925</td>\n",
       "      <td>43417.857143</td>\n",
       "      <td>75.781848</td>\n",
       "    </tr>\n",
       "    <tr>\n",
       "      <th>Asten</th>\n",
       "      <td>19</td>\n",
       "      <td>1350546</td>\n",
       "      <td>71081.368421</td>\n",
       "      <td>10.416812</td>\n",
       "    </tr>\n",
       "    <tr>\n",
       "      <th>Baarle-Nassau</th>\n",
       "      <td>5</td>\n",
       "      <td>384568</td>\n",
       "      <td>76913.600000</td>\n",
       "      <td>33.808330</td>\n",
       "    </tr>\n",
       "    <tr>\n",
       "      <th>Bergeijk</th>\n",
       "      <td>11</td>\n",
       "      <td>908843</td>\n",
       "      <td>82622.090909</td>\n",
       "      <td>13.317262</td>\n",
       "    </tr>\n",
       "    <tr>\n",
       "      <th>...</th>\n",
       "      <td>...</td>\n",
       "      <td>...</td>\n",
       "      <td>...</td>\n",
       "      <td>...</td>\n",
       "    </tr>\n",
       "    <tr>\n",
       "      <th>Vught</th>\n",
       "      <td>0</td>\n",
       "      <td>0</td>\n",
       "      <td>NaN</td>\n",
       "      <td>NaN</td>\n",
       "    </tr>\n",
       "    <tr>\n",
       "      <th>Waalre</th>\n",
       "      <td>0</td>\n",
       "      <td>0</td>\n",
       "      <td>NaN</td>\n",
       "      <td>NaN</td>\n",
       "    </tr>\n",
       "    <tr>\n",
       "      <th>Waalwijk</th>\n",
       "      <td>0</td>\n",
       "      <td>0</td>\n",
       "      <td>NaN</td>\n",
       "      <td>NaN</td>\n",
       "    </tr>\n",
       "    <tr>\n",
       "      <th>Woensdrecht</th>\n",
       "      <td>2</td>\n",
       "      <td>136579</td>\n",
       "      <td>68289.500000</td>\n",
       "      <td>107.216627</td>\n",
       "    </tr>\n",
       "    <tr>\n",
       "      <th>Zundert</th>\n",
       "      <td>6</td>\n",
       "      <td>790954</td>\n",
       "      <td>131825.666667</td>\n",
       "      <td>9.590667</td>\n",
       "    </tr>\n",
       "  </tbody>\n",
       "</table>\n",
       "<p>62 rows × 4 columns</p>\n",
       "</div>"
      ],
      "text/plain": [
       "               farms  chickens       avgchick        MSCS\n",
       "Alphen-Chaam      10   1182585  118258.500000    7.150481\n",
       "Altena             7    303925   43417.857143   75.781848\n",
       "Asten             19   1350546   71081.368421   10.416812\n",
       "Baarle-Nassau      5    384568   76913.600000   33.808330\n",
       "Bergeijk          11    908843   82622.090909   13.317262\n",
       "...              ...       ...            ...         ...\n",
       "Vught              0         0            NaN         NaN\n",
       "Waalre             0         0            NaN         NaN\n",
       "Waalwijk           0         0            NaN         NaN\n",
       "Woensdrecht        2    136579   68289.500000  107.216627\n",
       "Zundert            6    790954  131825.666667    9.590667\n",
       "\n",
       "[62 rows x 4 columns]"
      ]
     },
     "execution_count": 227,
     "metadata": {},
     "output_type": "execute_result"
    }
   ],
   "source": [
    "kippen_df"
   ]
  },
  {
   "cell_type": "code",
   "execution_count": 239,
   "id": "38220c7c",
   "metadata": {},
   "outputs": [
    {
     "data": {
      "text/html": [
       "<div>\n",
       "<style scoped>\n",
       "    .dataframe tbody tr th:only-of-type {\n",
       "        vertical-align: middle;\n",
       "    }\n",
       "\n",
       "    .dataframe tbody tr th {\n",
       "        vertical-align: top;\n",
       "    }\n",
       "\n",
       "    .dataframe thead th {\n",
       "        text-align: right;\n",
       "    }\n",
       "</style>\n",
       "<table border=\"1\" class=\"dataframe\">\n",
       "  <thead>\n",
       "    <tr style=\"text-align: right;\">\n",
       "      <th></th>\n",
       "      <th>farms</th>\n",
       "      <th>chickens</th>\n",
       "      <th>avgchick</th>\n",
       "      <th>MSCS</th>\n",
       "      <th>Category</th>\n",
       "    </tr>\n",
       "  </thead>\n",
       "  <tbody>\n",
       "    <tr>\n",
       "      <th>Alphen-Chaam</th>\n",
       "      <td>10</td>\n",
       "      <td>1182585</td>\n",
       "      <td>118258.500000</td>\n",
       "      <td>7.150481</td>\n",
       "      <td>3</td>\n",
       "    </tr>\n",
       "    <tr>\n",
       "      <th>Altena</th>\n",
       "      <td>7</td>\n",
       "      <td>303925</td>\n",
       "      <td>43417.857143</td>\n",
       "      <td>75.781848</td>\n",
       "      <td>3</td>\n",
       "    </tr>\n",
       "    <tr>\n",
       "      <th>Asten</th>\n",
       "      <td>19</td>\n",
       "      <td>1350546</td>\n",
       "      <td>71081.368421</td>\n",
       "      <td>10.416812</td>\n",
       "      <td>4</td>\n",
       "    </tr>\n",
       "    <tr>\n",
       "      <th>Baarle-Nassau</th>\n",
       "      <td>5</td>\n",
       "      <td>384568</td>\n",
       "      <td>76913.600000</td>\n",
       "      <td>33.808330</td>\n",
       "      <td>3</td>\n",
       "    </tr>\n",
       "    <tr>\n",
       "      <th>Bergeijk</th>\n",
       "      <td>11</td>\n",
       "      <td>908843</td>\n",
       "      <td>82622.090909</td>\n",
       "      <td>13.317262</td>\n",
       "      <td>3</td>\n",
       "    </tr>\n",
       "    <tr>\n",
       "      <th>...</th>\n",
       "      <td>...</td>\n",
       "      <td>...</td>\n",
       "      <td>...</td>\n",
       "      <td>...</td>\n",
       "      <td>...</td>\n",
       "    </tr>\n",
       "    <tr>\n",
       "      <th>Vught</th>\n",
       "      <td>0</td>\n",
       "      <td>0</td>\n",
       "      <td>NaN</td>\n",
       "      <td>NaN</td>\n",
       "      <td>0</td>\n",
       "    </tr>\n",
       "    <tr>\n",
       "      <th>Waalre</th>\n",
       "      <td>0</td>\n",
       "      <td>0</td>\n",
       "      <td>NaN</td>\n",
       "      <td>NaN</td>\n",
       "      <td>0</td>\n",
       "    </tr>\n",
       "    <tr>\n",
       "      <th>Waalwijk</th>\n",
       "      <td>0</td>\n",
       "      <td>0</td>\n",
       "      <td>NaN</td>\n",
       "      <td>NaN</td>\n",
       "      <td>0</td>\n",
       "    </tr>\n",
       "    <tr>\n",
       "      <th>Woensdrecht</th>\n",
       "      <td>2</td>\n",
       "      <td>136579</td>\n",
       "      <td>68289.500000</td>\n",
       "      <td>107.216627</td>\n",
       "      <td>2</td>\n",
       "    </tr>\n",
       "    <tr>\n",
       "      <th>Zundert</th>\n",
       "      <td>6</td>\n",
       "      <td>790954</td>\n",
       "      <td>131825.666667</td>\n",
       "      <td>9.590667</td>\n",
       "      <td>3</td>\n",
       "    </tr>\n",
       "  </tbody>\n",
       "</table>\n",
       "<p>62 rows × 5 columns</p>\n",
       "</div>"
      ],
      "text/plain": [
       "               farms  chickens       avgchick        MSCS Category\n",
       "Alphen-Chaam      10   1182585  118258.500000    7.150481        3\n",
       "Altena             7    303925   43417.857143   75.781848        3\n",
       "Asten             19   1350546   71081.368421   10.416812        4\n",
       "Baarle-Nassau      5    384568   76913.600000   33.808330        3\n",
       "Bergeijk          11    908843   82622.090909   13.317262        3\n",
       "...              ...       ...            ...         ...      ...\n",
       "Vught              0         0            NaN         NaN        0\n",
       "Waalre             0         0            NaN         NaN        0\n",
       "Waalwijk           0         0            NaN         NaN        0\n",
       "Woensdrecht        2    136579   68289.500000  107.216627        2\n",
       "Zundert            6    790954  131825.666667    9.590667        3\n",
       "\n",
       "[62 rows x 5 columns]"
      ]
     },
     "execution_count": 239,
     "metadata": {},
     "output_type": "execute_result"
    }
   ],
   "source": [
    "kippen_df['Category'] = pd.cut(\n",
    "    x = kippen_df['farms'],\n",
    "    bins = [-1, 0, 1, 4, 11, 10000],\n",
    "    labels= ['0', '1', '2', '3', '4']\n",
    ")\n",
    "kippen_df"
   ]
  },
  {
   "cell_type": "markdown",
   "id": "28a52096",
   "metadata": {},
   "source": [
    "we werken met data van het Centraal bureau voor Statestiek over het aantal zonnepanelen verspreit over nederland in 2021"
   ]
  },
  {
   "cell_type": "code",
   "execution_count": 229,
   "id": "c35f0d12",
   "metadata": {},
   "outputs": [
    {
     "data": {
      "text/html": [
       "<div>\n",
       "<style scoped>\n",
       "    .dataframe tbody tr th:only-of-type {\n",
       "        vertical-align: middle;\n",
       "    }\n",
       "\n",
       "    .dataframe tbody tr th {\n",
       "        vertical-align: top;\n",
       "    }\n",
       "\n",
       "    .dataframe thead th {\n",
       "        text-align: right;\n",
       "    }\n",
       "</style>\n",
       "<table border=\"1\" class=\"dataframe\">\n",
       "  <thead>\n",
       "    <tr style=\"text-align: right;\">\n",
       "      <th></th>\n",
       "      <th>Municipality</th>\n",
       "      <th>RegionType</th>\n",
       "      <th>Installations</th>\n",
       "      <th>Power</th>\n",
       "    </tr>\n",
       "    <tr>\n",
       "      <th>Code</th>\n",
       "      <th></th>\n",
       "      <th></th>\n",
       "      <th></th>\n",
       "      <th></th>\n",
       "    </tr>\n",
       "  </thead>\n",
       "  <tbody>\n",
       "    <tr>\n",
       "      <th>NL00</th>\n",
       "      <td>Nederland</td>\n",
       "      <td>Land</td>\n",
       "      <td>960248.0</td>\n",
       "      <td>3236417.0</td>\n",
       "    </tr>\n",
       "    <tr>\n",
       "      <th>GM1680</th>\n",
       "      <td>Aa en Hunze</td>\n",
       "      <td>Gemeente</td>\n",
       "      <td>2573.0</td>\n",
       "      <td>10050.0</td>\n",
       "    </tr>\n",
       "    <tr>\n",
       "      <th>WK168000</th>\n",
       "      <td>Aa en Hunze</td>\n",
       "      <td>Wijk</td>\n",
       "      <td>408.0</td>\n",
       "      <td>1476.0</td>\n",
       "    </tr>\n",
       "    <tr>\n",
       "      <th>BU16800000</th>\n",
       "      <td>Aa en Hunze</td>\n",
       "      <td>Buurt</td>\n",
       "      <td>396.0</td>\n",
       "      <td>1426.0</td>\n",
       "    </tr>\n",
       "    <tr>\n",
       "      <th>BU16800009</th>\n",
       "      <td>Aa en Hunze</td>\n",
       "      <td>Buurt</td>\n",
       "      <td>12.0</td>\n",
       "      <td>50.0</td>\n",
       "    </tr>\n",
       "    <tr>\n",
       "      <th>...</th>\n",
       "      <td>...</td>\n",
       "      <td>...</td>\n",
       "      <td>...</td>\n",
       "      <td>...</td>\n",
       "    </tr>\n",
       "    <tr>\n",
       "      <th>BU01935200</th>\n",
       "      <td>Zwolle</td>\n",
       "      <td>Buurt</td>\n",
       "      <td>36.0</td>\n",
       "      <td>145.0</td>\n",
       "    </tr>\n",
       "    <tr>\n",
       "      <th>BU01935210</th>\n",
       "      <td>Zwolle</td>\n",
       "      <td>Buurt</td>\n",
       "      <td>38.0</td>\n",
       "      <td>179.0</td>\n",
       "    </tr>\n",
       "    <tr>\n",
       "      <th>GEM9999</th>\n",
       "      <td>NaN</td>\n",
       "      <td>NaN</td>\n",
       "      <td>NaN</td>\n",
       "      <td>NaN</td>\n",
       "    </tr>\n",
       "    <tr>\n",
       "      <th>WK999999</th>\n",
       "      <td>Onbekend</td>\n",
       "      <td>Wijk</td>\n",
       "      <td>352.0</td>\n",
       "      <td>792.0</td>\n",
       "    </tr>\n",
       "    <tr>\n",
       "      <th>BU99999999</th>\n",
       "      <td>Onbekend</td>\n",
       "      <td>Buurt</td>\n",
       "      <td>352.0</td>\n",
       "      <td>792.0</td>\n",
       "    </tr>\n",
       "  </tbody>\n",
       "</table>\n",
       "<p>17117 rows × 4 columns</p>\n",
       "</div>"
      ],
      "text/plain": [
       "           Municipality RegionType  Installations      Power\n",
       "Code                                                        \n",
       "NL00          Nederland       Land       960248.0  3236417.0\n",
       "GM1680      Aa en Hunze   Gemeente         2573.0    10050.0\n",
       "WK168000    Aa en Hunze       Wijk          408.0     1476.0\n",
       "BU16800000  Aa en Hunze      Buurt          396.0     1426.0\n",
       "BU16800009  Aa en Hunze      Buurt           12.0       50.0\n",
       "...                 ...        ...            ...        ...\n",
       "BU01935200       Zwolle      Buurt           36.0      145.0\n",
       "BU01935210       Zwolle      Buurt           38.0      179.0\n",
       "GEM9999             NaN        NaN            NaN        NaN\n",
       "WK999999       Onbekend       Wijk          352.0      792.0\n",
       "BU99999999     Onbekend      Buurt          352.0      792.0\n",
       "\n",
       "[17117 rows x 4 columns]"
      ]
     },
     "execution_count": 229,
     "metadata": {},
     "output_type": "execute_result"
    }
   ],
   "source": [
    "solar_df= pd.read_csv(\n",
    "    'solar.csv',\n",
    "    sep = ';',\n",
    "    header = 0,\n",
    "    index_col = 0\n",
    "    )\n",
    "solar_df"
   ]
  },
  {
   "cell_type": "code",
   "execution_count": 230,
   "id": "8b307f62",
   "metadata": {},
   "outputs": [
    {
     "name": "stdout",
     "output_type": "stream",
     "text": [
      "Utrecht Met 13905.0 zonnepanelen\n"
     ]
    }
   ],
   "source": [
    "Solar_gemeente = solar_df.loc[solar_df['RegionType'] == 'Gemeente']\n",
    "print(Solar_gemeente.loc[Solar_gemeente.Installations.idxmax(), 'Municipality'], 'Met', Solar_gemeente.Installations.max(), 'zonnepanelen')\n"
   ]
  },
  {
   "cell_type": "markdown",
   "id": "943a3129",
   "metadata": {},
   "source": [
    "Deze staitment is fout omdat het geen rekening houd met de grote van de gemeente waar de data vandaankomt. dit zou geen probleem zijn al het zou gaan om een procent van de popelatie"
   ]
  },
  {
   "cell_type": "code",
   "execution_count": 231,
   "id": "5d399ac3",
   "metadata": {},
   "outputs": [
    {
     "name": "stdout",
     "output_type": "stream",
     "text": [
      "BU00720004 Met 4036.0 Power\n"
     ]
    }
   ],
   "source": [
    "Solar_buurt = solar_df.loc[solar_df['RegionType'] == 'Buurt']\n",
    "print(Solar_buurt.Power.idxmax(), 'Met', Solar_buurt.Power.max(), 'Power')\n"
   ]
  },
  {
   "cell_type": "code",
   "execution_count": 238,
   "id": "ecdefd12",
   "metadata": {},
   "outputs": [
    {
     "data": {
      "text/html": [
       "<div>\n",
       "<style scoped>\n",
       "    .dataframe tbody tr th:only-of-type {\n",
       "        vertical-align: middle;\n",
       "    }\n",
       "\n",
       "    .dataframe tbody tr th {\n",
       "        vertical-align: top;\n",
       "    }\n",
       "\n",
       "    .dataframe thead th {\n",
       "        text-align: right;\n",
       "    }\n",
       "</style>\n",
       "<table border=\"1\" class=\"dataframe\">\n",
       "  <thead>\n",
       "    <tr style=\"text-align: right;\">\n",
       "      <th></th>\n",
       "      <th>Municipality</th>\n",
       "      <th>RegionType</th>\n",
       "      <th>Installations</th>\n",
       "      <th>Power</th>\n",
       "    </tr>\n",
       "    <tr>\n",
       "      <th>Code</th>\n",
       "      <th></th>\n",
       "      <th></th>\n",
       "      <th></th>\n",
       "      <th></th>\n",
       "    </tr>\n",
       "  </thead>\n",
       "  <tbody>\n",
       "    <tr>\n",
       "      <th>GM0096</th>\n",
       "      <td>Vlieland</td>\n",
       "      <td>Gemeente</td>\n",
       "      <td>91.0</td>\n",
       "      <td>304.0</td>\n",
       "    </tr>\n",
       "    <tr>\n",
       "      <th>GM0277</th>\n",
       "      <td>Rozendaal</td>\n",
       "      <td>Gemeente</td>\n",
       "      <td>100.0</td>\n",
       "      <td>445.0</td>\n",
       "    </tr>\n",
       "    <tr>\n",
       "      <th>GM0088</th>\n",
       "      <td>Schiermonnikoog</td>\n",
       "      <td>Gemeente</td>\n",
       "      <td>105.0</td>\n",
       "      <td>414.0</td>\n",
       "    </tr>\n",
       "    <tr>\n",
       "      <th>GM0417</th>\n",
       "      <td>Laren</td>\n",
       "      <td>Gemeente</td>\n",
       "      <td>191.0</td>\n",
       "      <td>738.0</td>\n",
       "    </tr>\n",
       "    <tr>\n",
       "      <th>GM0060</th>\n",
       "      <td>Ameland</td>\n",
       "      <td>Gemeente</td>\n",
       "      <td>208.0</td>\n",
       "      <td>822.0</td>\n",
       "    </tr>\n",
       "    <tr>\n",
       "      <th>GM0339</th>\n",
       "      <td>Renswoude</td>\n",
       "      <td>Gemeente</td>\n",
       "      <td>260.0</td>\n",
       "      <td>956.0</td>\n",
       "    </tr>\n",
       "    <tr>\n",
       "      <th>GM0744</th>\n",
       "      <td>Baarle-Nassau</td>\n",
       "      <td>Gemeente</td>\n",
       "      <td>263.0</td>\n",
       "      <td>1060.0</td>\n",
       "    </tr>\n",
       "    <tr>\n",
       "      <th>GM0093</th>\n",
       "      <td>Terschelling</td>\n",
       "      <td>Gemeente</td>\n",
       "      <td>274.0</td>\n",
       "      <td>1201.0</td>\n",
       "    </tr>\n",
       "    <tr>\n",
       "      <th>GM0473</th>\n",
       "      <td>Zandvoort</td>\n",
       "      <td>Gemeente</td>\n",
       "      <td>321.0</td>\n",
       "      <td>1149.0</td>\n",
       "    </tr>\n",
       "    <tr>\n",
       "      <th>GM0279</th>\n",
       "      <td>Scherpenzeel</td>\n",
       "      <td>Gemeente</td>\n",
       "      <td>413.0</td>\n",
       "      <td>1513.0</td>\n",
       "    </tr>\n",
       "  </tbody>\n",
       "</table>\n",
       "</div>"
      ],
      "text/plain": [
       "           Municipality RegionType  Installations   Power\n",
       "Code                                                     \n",
       "GM0096         Vlieland   Gemeente           91.0   304.0\n",
       "GM0277        Rozendaal   Gemeente          100.0   445.0\n",
       "GM0088  Schiermonnikoog   Gemeente          105.0   414.0\n",
       "GM0417            Laren   Gemeente          191.0   738.0\n",
       "GM0060          Ameland   Gemeente          208.0   822.0\n",
       "GM0339        Renswoude   Gemeente          260.0   956.0\n",
       "GM0744    Baarle-Nassau   Gemeente          263.0  1060.0\n",
       "GM0093     Terschelling   Gemeente          274.0  1201.0\n",
       "GM0473        Zandvoort   Gemeente          321.0  1149.0\n",
       "GM0279     Scherpenzeel   Gemeente          413.0  1513.0"
      ]
     },
     "execution_count": 238,
     "metadata": {},
     "output_type": "execute_result"
    }
   ],
   "source": [
    "Solar_gemeente.nsmallest(n=10, columns='Installations')"
   ]
  },
  {
   "cell_type": "code",
   "execution_count": 233,
   "id": "ab2207fa",
   "metadata": {},
   "outputs": [
    {
     "data": {
      "text/plain": [
       "<AxesSubplot:title={'center':'Instalations versus Power output'}, xlabel='Installations', ylabel='Power'>"
      ]
     },
     "execution_count": 233,
     "metadata": {},
     "output_type": "execute_result"
    },
    {
     "data": {
      "image/png": "[encoded data removed]",
      "text/plain": [
       "<Figure size 360x360 with 1 Axes>"
      ]
     },
     "metadata": {
      "needs_background": "light"
     },
     "output_type": "display_data"
    }
   ],
   "source": [
    "solar_wijk = solar_df.loc[solar_df['RegionType'] == 'Wijk']\n",
    "solar_wijk.plot(\n",
    "    x = 'Installations',\n",
    "    y= 'Power',\n",
    "    kind = 'scatter',\n",
    "    figsize = (5,5),\n",
    "    title = 'Instalations versus Power output'\n",
    ")"
   ]
  },
  {
   "cell_type": "code",
   "execution_count": 234,
   "id": "ab721f36",
   "metadata": {},
   "outputs": [
    {
     "name": "stdout",
     "output_type": "stream",
     "text": [
      "Series([], Name: Municipality, dtype: object)\n",
      "geen één...\n"
     ]
    }
   ],
   "source": [
    "print(Solar_buurt.loc[(Solar_buurt['Installations'] > 4000), 'Municipality'])\n",
    "print('geen één...')"
   ]
  }
 ],
 "metadata": {
  "kernelspec": {
   "display_name": "Python 3.9.12 ('base')",
   "language": "python",
   "name": "python3"
  },
  "language_info": {
   "codemirror_mode": {
    "name": "ipython",
    "version": 3
   },
   "file_extension": ".py",
   "mimetype": "text/x-python",
   "name": "python",
   "nbconvert_exporter": "python",
   "pygments_lexer": "ipython3",
   "version": "3.9.12"
  },
  "vscode": {
   "interpreter": {
    "hash": "abf6b923c15f2fbf57cc94ba7a5e957ebd2bc9faedbb7661c75646cbb3b06a8a"
   }
  }
 },
 "nbformat": 4,
 "nbformat_minor": 5
}
