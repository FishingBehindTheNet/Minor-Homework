{
 "cells": [
  {
   "cell_type": "markdown",
   "metadata": {},
   "source": [
    "# 1 Introduction\n",
    "\n",
    "In the first part of this course we learnt how data sets can be\n",
    "represented as\n",
    "[`DataFrame`](https://pandas.pydata.org/docs/reference/api/pandas.DataFrame.html).\n",
    "We know how to load, query and manipulate data from within the Jupyter\n",
    "Lab environment. In this lab session we will see how we can build\n",
    "*predictive models* on this data set.\n",
    "\n",
    "A *predictive model* is used to label previously unseen observations.\n",
    "There are many situations in which this is useful. Consider fraude\n",
    "detection for credit card payments. While it is straightforward to\n",
    "collect factual data related to a transaction such as the time and place\n",
    "of transaction, amount paid and information about the card holder, it\n",
    "will initially require human effort to determine if the transaction was\n",
    "fraudulent. This labelling happens after the fact. Considerable time may\n",
    "pass before a card holder receives a statement containing the\n",
    "transaction(s) she did not instantiate and informs the card issuer.\n",
    "\n",
    "As the number of labelled observations grows, we may attempt to reduce\n",
    "human involvement by classifying a transaction as its information comes\n",
    "in. If this can be done quickly and accurately, we could be able to\n",
    "reject the transaction before it or ask the card holder to authorise the\n",
    "request via a second factor (such as her mobile banking application).\n",
    "This process requires a predictive model that learns from the past\n",
    "(human) decisions and tries to find a relation between the independent\n",
    "variables (transaction, card and customer information) and a dependent\n",
    "variable indicating fraudulence.\n",
    "\n",
    "A suitable model has the following properties\n",
    "\n",
    "1.  it detects as much fraudulent transaction as possible\n",
    "2.  it does not erroneously report genuine transactions as fraudulent\n",
    "\n",
    "**Exercise:** Design, by hand, a model that is guaranteed to report\n",
    "every fraudulent transaction. You are free to use as much or as little\n",
    "independent variables. Is this model usable in practice?\n",
    "\n",
    "There exist many algorithms that describe how predictive models can be\n",
    "built from data. All outline how on can find an optimal *model* from a\n",
    "*model family*. They differ in what family, or search space, they\n",
    "operate on and how that search is conducted. Many algorithms give the\n",
    "investigator the possibility to alter one or both of these aspects\n",
    "through *hyperparameters*. This class of algorithms belongs to the\n",
    "domain of *supervised* learning as they need to be told what to learn in\n",
    "the form of *labeled data*. The situation can be visualised as:\n",
    "\n",
    "![](attachment:.tikz-dc321f0eee2d64d55a39badb7758f43c664b5a88.png)\n",
    "\n",
    "Now an algorithm is *a description of a procedure*. This procedure has\n",
    "to be implemented in a programming language. While we could do this\n",
    "ourselves, this is far from trivial. It is better to rely the\n",
    "implementations found in well-established libraries. In the Python\n",
    "ecosystem, [scikit-learn](https://scikit-learn.org/) offers\n",
    "implementations of many algorithms for various tasks related to machine\n",
    "learning, including\n",
    "\n",
    "1.  regression,\n",
    "2.  classification,\n",
    "3.  model selection,\n",
    "4.  preprocessing,\n",
    "5.  clustering,\n",
    "6.  and dimensionality reduction.\n",
    "\n",
    "We will be concerned with the first four items on this list. The first\n",
    "three are the topic of this lab session. A discussion of preprocessing\n",
    "is postponed to the third and final part of this course. This lab\n",
    "session is divided into two main sections, one on classification, one on\n",
    "regression. Model selection plays a pivotal role in machine learning and\n",
    "is absorbed into those sections.\n",
    "\n",
    "# 2 Classification\n",
    "\n",
    "In machine learning, the measurement scale, c.f., Stevens (1946) and the\n",
    "lecture slides of part 1, of the dependent variable determines the type\n",
    "of problem. Categorical variables are indicative of classification\n",
    "problems, numeric variables hint at a regression problem. Though, this\n",
    "is merely a *heuristic*, a rule of thumb. If a numeric variable takes on\n",
    "few different values, e.g., 2 or 3, then the relation could be modelled\n",
    "using a classification model.\n",
    "\n",
    "## 2.1 Our dataset\n",
    "\n",
    "Our first machine learning problem is the classification of Iris flowers\n",
    "into three different species. This dataset is commonly known as the Iris\n",
    "dataset and was published in 1936 by one of the most influential\n",
    "statisticians (Fisher 1936). It contains measurements of the dimensions\n",
    "of the sepals and petals of Iris flowers. Fisher recorded these\n",
    "measurements together with the species of the flower.\n",
    "\n",
    "The dataset could be loaded using sklearn’s\n",
    "[`load_iris`](https://scikit-learn.org/stable/modules/generated/sklearn.datasets.load_iris.html)\n",
    "function. However, by default this function does not return a\n",
    "[`DataFrame`](https://pandas.pydata.org/docs/reference/api/pandas.DataFrame.html)\n",
    "but a structure that is less rich. Instead, we will use the file\n",
    "`iris.data` provided by UCI’s Machine Learning Repository (Dua and Graff\n",
    "2017).\n",
    "\n",
    "**Exercise:** The `data` extension of this file (i.e., the part after\n",
    "the period) is not indicative of the way the data is stored. Open this\n",
    "file in a normal text editor (e.g., Notepad on Windows or `TextEdit.app`\n",
    "on macOS) and determine the file format.\n",
    "\n",
    "The first four columns are the independent variables and contain\n",
    "measurements of sepals and petals. The last variable contains the\n",
    "species of Iris flower. From left to right they represent (Dua and Graff\n",
    "2017):\n",
    "\n",
    "1.  sepal length in cm\n",
    "2.  sepal width in cm\n",
    "3.  petal length in cm\n",
    "4.  petal width in cm\n",
    "5.  Iris species: Setosa, Versicolour or Iris Virginica\n",
    "\n",
    "**Exercise:** Use the appropriate function in `pandas` to load the data\n",
    "set as a\n",
    "[`DataFrame`](https://pandas.pydata.org/docs/reference/api/pandas.DataFrame.html).\n",
    "Store the result in a variable named `iris_df`. Label the columns as\n",
    "`sl` and `sw` (for sepal length and width), `pl` and `pw` (for petals)\n",
    "and `species`. Verify the data has been loaded correctly."
   ],
   "attachments": {
    ".tikz-dc321f0eee2d64d55a39badb7758f43c664b5a88.png": {
     "image/png": "[encoded data removed]"
    }
   }
  },
  {
   "cell_type": "code",
   "execution_count": null,
   "metadata": {},
   "outputs": [],
   "source": [
    "# Your answer here"
   ]
  },
  {
   "cell_type": "markdown",
   "metadata": {},
   "source": [
    "The species of the Iris flower is stored as text. The unique values in\n",
    "this column can be determined by running the following code block."
   ]
  },
  {
   "cell_type": "code",
   "execution_count": null,
   "metadata": {},
   "outputs": [],
   "source": [
    "iris_df.loc[:, 'species'].unique()"
   ]
  },
  {
   "cell_type": "markdown",
   "metadata": {},
   "source": [
    "[`sklearn`](https://scikit-learn.org/) cannot handle textual data. It\n",
    "expects all values to be numerical. Before we can use this dataset for\n",
    "machine learning, we will need to map the Iris species to numbers.\n",
    "\n",
    "**Exercise:** Use the\n",
    "[`factorize`](https://pandas.pydata.org/docs/reference/api/pandas.Series.factorize.html)\n",
    "method to add a new column `species_num` to `iris_df`. This column\n",
    "should be a numerical representation of the species. Make sure the\n",
    "species are sorted so that codes correspond to the alphabetical order."
   ]
  },
  {
   "cell_type": "code",
   "execution_count": null,
   "metadata": {},
   "outputs": [],
   "source": [
    "# Your answer here"
   ]
  },
  {
   "cell_type": "markdown",
   "metadata": {},
   "source": [
    "**Exercise:** Verify your result by retrieving the numeric value for\n",
    "each species. The results should be in agreement with the table below\n",
    "\n",
    "| `species`  | `species_num` |\n",
    "|------------|---------------|\n",
    "| Setosa     | `0`           |\n",
    "| Versicolor | `1`           |\n",
    "| Virginica  | `2`           |\n",
    "\n",
    "## 2.2 Extracting variables\n",
    "\n",
    "In supervised learning we treat the independent and dependent variables\n",
    "differently. During the training phase, the dependent variable guides\n",
    "the algorithm to a model. During the validation and testing stage, the\n",
    "dependent variables are used to assess its ability to generalise.\n",
    "\n",
    "It is customary to extract both into separate variables. These are\n",
    "conventionally named `X` for the independent variables and `y` for the\n",
    "dependent variable. The capital `X` suggests the variable refers to a\n",
    "[`DataFrame`](https://pandas.pydata.org/docs/reference/api/pandas.DataFrame.html),\n",
    "the lower case `y` refers to a\n",
    "[`Series`](https://pandas.pydata.org/docs/reference/api/pandas.Series.html).\n",
    "\n",
    "**Exercise:** Use the `loc` attribute of `iris_df` to extract the\n",
    "independent variables. Assign them to `iris_X`. Assign `species_num`\n",
    "`Series` to a variable named `iris_y`. Verify your results."
   ]
  },
  {
   "cell_type": "code",
   "execution_count": null,
   "metadata": {},
   "outputs": [],
   "source": [
    "# Your answer here"
   ]
  },
  {
   "cell_type": "markdown",
   "metadata": {},
   "source": [
    "## 2.3 Setting aside our test set\n",
    "\n",
    "Next we need to split our data into a training and a test set. The\n",
    "training set will be used for model building and validation. The test\n",
    "set will not be touched until we have selected the final model. **Do not\n",
    "use the test set for model building or selection!**\n",
    "\n",
    "![](attachment:.tikz-ae4e7511333dabafe655fdf794f4440aa762dedb.png)\n",
    "\n",
    "For this we will need to import a function from\n",
    "[`sklearn`](https://scikit-learn.org/) for the first time. Due to the\n",
    "broad scope of [`sklearn`](https://scikit-learn.org/), the number of\n",
    "functions offered by the library is vast. Rather than offering all this\n",
    "functionality in a single unit, the functions are distributed across a\n",
    "number of *modules*. The module\n",
    "[`sklearn.tree`](https://scikit-learn.org/stable/modules/classes.html#module-sklearn.tree)\n",
    "contains functions and classes related to building decision trees.\n",
    "\n",
    "The distinction between training and test tests is made during the model\n",
    "selection phase. The functionality required during this phase is found\n",
    "in the module\n",
    "[`sklearn.model_selection`](https://scikit-learn.org/stable/modules/classes.html#module-sklearn.model_selection).\n",
    "The use the functions and classes offered by\n",
    "[`sklearn.model_selection`](https://scikit-learn.org/stable/modules/classes.html#module-sklearn.model_selection),\n",
    "we could import the entire module as we did with\n",
    "[`pandas`](https://pandas.pydata.org/)\n",
    "\n",
    "``` python\n",
    "import sklearn.model_selection as mdlsel\n",
    "```\n",
    "\n",
    "After which we can use the functionality using the `mdlsel` prefix. In\n",
    "practice, however, we will use a limited subset of the functionality\n",
    "offered by [`sklearn`](https://scikit-learn.org/)’s models. In those\n",
    "situations, it is customary to import the required functions directly.\n",
    "During this lab session we require just the\n",
    "[`train_test_split`](https://scikit-learn.org/stable/modules/generated/sklearn.model_selection.train_test_split.html).\n",
    "the following code block illustrates how to import it:"
   ],
   "attachments": {
    ".tikz-ae4e7511333dabafe655fdf794f4440aa762dedb.png": {
     "image/png": "[encoded data removed]"
    }
   }
  },
  {
   "cell_type": "code",
   "execution_count": null,
   "metadata": {},
   "outputs": [],
   "source": [
    "from sklearn.model_selection import train_test_split"
   ]
  },
  {
   "cell_type": "markdown",
   "metadata": {},
   "source": [
    "**Exercise:** Run the above code cell.\n",
    "\n",
    "After running the code cell, we are able to call the\n",
    "[`train_test_split`](https://scikit-learn.org/stable/modules/generated/sklearn.model_selection.train_test_split.html)\n",
    "without prefixing the (abbreviated) module name.\n",
    "\n",
    "To use this function we pass it two arguments `iris_X` and `iris_y`.\n",
    "[`train_test_split`](https://scikit-learn.org/stable/modules/generated/sklearn.model_selection.train_test_split.html)\n",
    "will assign a random selection of rows to the training set, and the\n",
    "remainder to the test set. The result is *four values*, a selection from\n",
    "`iris_X` for the training and test and the corresponding independent\n",
    "variables taken from `iris_y`\n",
    "\n",
    "**Exercise:** Run the following code block"
   ]
  },
  {
   "cell_type": "code",
   "execution_count": null,
   "metadata": {},
   "outputs": [],
   "source": [
    "iris_X_tv, iris_X_test, iris_y_tv, iris_y_test = train_test_split(iris_X, iris_y)"
   ]
  },
  {
   "cell_type": "markdown",
   "metadata": {},
   "source": [
    "The `_tv` suffix indicates that part of the data should be split further\n",
    "into a training `t` and validation set `v`.\n",
    "\n",
    "**Exercise:** Use the \\[`DataFrame.head`\\] method to inspect the first\n",
    "five rows of the training set. Next, run the cell calling\n",
    "`train_test_split` once more. Compare the first five rows of this\n",
    "selection to your previous result. What do you notice? How will this\n",
    "affect the reproducibility of your results and thus the collaboration\n",
    "with other data scientists?"
   ]
  },
  {
   "cell_type": "code",
   "execution_count": null,
   "metadata": {},
   "outputs": [],
   "source": [
    "# Your answer here"
   ]
  },
  {
   "cell_type": "markdown",
   "metadata": {},
   "source": [
    "Many functions in [`sklearn`](https://scikit-learn.org/) work with\n",
    "random selections. It is important to control for the variability this\n",
    "entails. Fortunately, the randomness exhibited by computers is not\n",
    "really random; a computer performs calculations, and the outcomes of\n",
    "these calculations is fixed. The input of a random number generator is\n",
    "obtained from a *seed value*. If not provided by the programmer, the\n",
    "computer will obtain the seed from an unpredictable source (relying on\n",
    "the physical state of its processor).\n",
    "\n",
    "The same seed value will result in the same “random pattern.” All we\n",
    "need to do is fix it in our code. Functions in\n",
    "[`sklearn`](https://scikit-learn.org/) that rely on randomness have a\n",
    "parameter named `random_state` that we can assign a number. This fixes\n",
    "the input to the random number generator and thus we will obtain the\n",
    "same result every time:\n",
    "\n",
    "**Exercise:** In the code cell below, adjust the call to\n",
    "`train_test_split` to set the `random_state` parameter. Inspect the\n",
    "first five rows of `iris_X_tv`. Rerun the cell and compare the results.\n",
    "Ask a neighbour to use the same value for `random_state`. How do those\n",
    "results compare to yours?"
   ]
  },
  {
   "cell_type": "code",
   "execution_count": null,
   "metadata": {},
   "outputs": [],
   "source": [
    "# Your answer here"
   ]
  },
  {
   "cell_type": "markdown",
   "metadata": {},
   "source": [
    "We will ignore the test data in `iris_X_test` and `iris_y_test` until\n",
    "the end of this section. For now we wish to use the training data to\n",
    "select the optimal algorithm and hyperparameter combination. We will\n",
    "need to further split `iris_X_tv` and `iris_y_tv` into the actual\n",
    "*training set* and a *validation set*.\n",
    "\n",
    "**Exercise:** Use `train_test_split` to split the data further into a\n",
    "training set and a validation set, use the following names\n",
    "\n",
    "-   `iris_X_tr` for the independent variables in the training set\n",
    "-   `iris_X_v` for the independent variables in the validation set\n",
    "-   `iris_y_tr` for the dependent variables in the training set\n",
    "-   `iris_y_v` for the dependent variables in the validation set\n",
    "\n",
    "*Hint:* Do not forget about the `random_state` parameter!"
   ]
  },
  {
   "cell_type": "code",
   "execution_count": null,
   "metadata": {},
   "outputs": [],
   "source": [
    "# Your answer here"
   ]
  },
  {
   "cell_type": "markdown",
   "metadata": {},
   "source": [
    "## 2.4 $k$-nearest neighbours.\n",
    "\n",
    "There exist many classification algorithms. Many however are restricted\n",
    "to the domain of two class problems. While it is possible to combine\n",
    "several binary classification models to make multiclass predictions, we\n",
    "will instead adopt a procedure that inherently handles this type of\n",
    "classification problem: $k$-nearest neighbour classification.\n",
    "\n",
    "$k$-nearest neighbour classification remembers the entire training set.\n",
    "When given a new observation, it searches the training set for the $k$\n",
    "observations that are most similar to it. It then assigns the new\n",
    "observation to the most common class among its $k$ neighbours.\n",
    "\n",
    "But… what value of $k$ should we choose? This is hard to say in advance.\n",
    "We need to find the optimal value of $k$ based on the data we have at\n",
    "hand. But before we get to that, let us first build a classifier for\n",
    "$k = 1$.\n",
    "\n",
    "### 2.4.1 Importing [`KNeighborsClassifier`](https://scikit-learn.org/stable/modules/generated/sklearn.neighbors.KNeighborsClassifier.html)\n",
    "\n",
    "`sklearn` offers its implementations in the form of classes. Each\n",
    "algorithm is represented by its own class. For classification using\n",
    "$k$-nearest neighbours we need to create an object of the class\n",
    "[`KNeighborsClassifier`](https://scikit-learn.org/stable/modules/generated/sklearn.neighbors.KNeighborsClassifier#sklearn.neighbors.KNeighborsClassifier.KNeighborsClassifier).\n",
    "To do this, we first need to import the class."
   ]
  },
  {
   "cell_type": "code",
   "execution_count": null,
   "metadata": {},
   "outputs": [],
   "source": [
    "from sklearn.neighbors import KNeighborsClassifier"
   ]
  },
  {
   "cell_type": "markdown",
   "metadata": {},
   "source": [
    "Next, we create an object of that type. We can do this by using the\n",
    "class name as if it were a function. If we wish to change hyperparaters,\n",
    "we will need to pass the appropriate values to it. The result is an\n",
    "object of type\n",
    "[`KNeighborsClassifier`](https://scikit-learn.org/stable/modules/generated/sklearn.neighbors.KNeighborsClassifier#sklearn.neighbors.KNeighborsClassifier.KNeighborsClassifier).\n",
    "In order to keep that object around, we assign it to a variable.\n",
    "\n",
    "**Exercise:** Run the code cell"
   ]
  },
  {
   "cell_type": "code",
   "execution_count": null,
   "metadata": {},
   "outputs": [],
   "source": [
    "one_nn = KNeighborsClassifier(n_neighbors = 1)"
   ]
  },
  {
   "cell_type": "markdown",
   "metadata": {},
   "source": [
    "Now `one_nn` represents an *untrained model*. It cannot be used yet. To\n",
    "train it, we need to call its\n",
    "[`fit`](https://scikit-learn.org/stable/modules/generated/sklearn.neighbors.KNeighborsClassifier#sklearn.neighbors.KNeighborsClassifier.fit)\n",
    "method.\n",
    "\n",
    "**Exercise:** Call `one_nn`’s `fit` method to train the model on the\n",
    "training set."
   ]
  },
  {
   "cell_type": "code",
   "execution_count": null,
   "metadata": {},
   "outputs": [],
   "source": [
    "# Your answer here"
   ]
  },
  {
   "cell_type": "markdown",
   "metadata": {},
   "source": [
    "*Congratulations!* You have just trained your first machine learning\n",
    "model in Python. We will now use that model to make predictions. For\n",
    "this, trained models in `sklearn` offer a\n",
    "[`predict`](https://scikit-learn.org/stable/modules/generated/sklearn.neighbors.KNeighborsClassifier#sklearn.neighbors.KNeighborsClassifier.predict)\n",
    "method.\n",
    "\n",
    "**Exercise:** Study the documentation for\n",
    "[`predict`](https://scikit-learn.org/stable/modules/generated/sklearn.neighbors.KNeighborsClassifier#sklearn.neighbors.KNeighborsClassifier.predict).\n",
    "Explain why this method accepts only one argument\n",
    "\n",
    "**Exercise:** Use the `predict` method to obtain predictions for the\n",
    "*training set*. Assign the result to a variable `iris_yhat_tr`. The\n",
    "`hat` reflects the mathematical notation for predictions, where a\n",
    "prediction for $y$ is denoted by $\\hat{y}$."
   ]
  },
  {
   "cell_type": "code",
   "execution_count": null,
   "metadata": {},
   "outputs": [],
   "source": [
    "# Your answer here"
   ]
  },
  {
   "cell_type": "markdown",
   "metadata": {},
   "source": [
    "### 2.4.2 How $k$-NN works\n",
    "\n",
    "Before we move on, let us pause a moment to study how $k$-NN works.\n",
    "Nearest neighbour algorithms work by remembering the entire training\n",
    "set. To make a prediction for a new observation $x_\\text{new}$, the\n",
    "algorithm searches the training set for the $k$ observations that are\n",
    "most similar to $x_\\text{new}$. Next, it determines the most common\n",
    "class among those $k$ observations and outputs that as its prediction.\n",
    "\n",
    "**Exercise:** Compare the predictions to the known values `iris_y_tr` by\n",
    "running the code cell below. Do you notice anything?"
   ]
  },
  {
   "cell_type": "code",
   "execution_count": null,
   "metadata": {},
   "outputs": [],
   "source": [
    "print(iris_y_tr.values)\n",
    "print(iris_yhat_tr)"
   ]
  },
  {
   "cell_type": "markdown",
   "metadata": {},
   "source": [
    "In general, comparing all values manually is infeasible. Fortunately,\n",
    "models offer a method\n",
    "[`score`](https://scikit-learn.org/stable/modules/generated/sklearn.neighbors.KNeighborsClassifier#sklearn.neighbors.KNeighborsClassifier.score)\n",
    "that gives us an indication of our model’s performance. Unlike\n",
    "`predict`, `score` does require two parameters. The first are the\n",
    "independent variables. These are used to make predictions. The second\n",
    "parameter should contain the known values for the dependent variable.\n",
    "This information allows `score` to calculate the accuracy. For\n",
    "classifiers, the output will be the ratio of correctly predicted\n",
    "instances.\n",
    "\n",
    "**Exercise:** Run the code cell below. Can you explain the output?"
   ]
  },
  {
   "cell_type": "code",
   "execution_count": null,
   "metadata": {},
   "outputs": [],
   "source": [
    "one_nn.score(iris_X_tr, iris_y_tr)"
   ]
  },
  {
   "cell_type": "markdown",
   "metadata": {},
   "source": [
    "### 2.4.3 Similarity and distance\n",
    "\n",
    "Similarity is often expressed by a distance metric: the further two\n",
    "observations are apart, the more dissimilar they are. By default the\n",
    "implementation in [`sklearn`](https://scikit-learn.org/) uses the\n",
    "Euclidean distance, which is a generalisation of the Pythagorean\n",
    "theorem:\n",
    "\n",
    "$$c^2 = \\sqrt{a^2 + b^2}$$\n",
    "\n",
    "To see how this works, we will study the following situation. We wish to\n",
    "find the distance between two observations $x_1$ and $x_2$ of two\n",
    "features. $x_1$ has a value of $0$ for both, whereas $x_2$ has values of\n",
    "$5$ for feature one and $3$ for feature two. The distance between these\n",
    "two points then is\n",
    "\n",
    "$$d(x_1, x_2) = \\sqrt{5^2 + 3^2} = \\sqrt{25 + 9} \\approx 5.8$$.\n",
    "\n",
    "You can visualise $k$-NN by drawing ever larger circles around a new\n",
    "observation. As soon as the circle grows big enough to encompass $k$\n",
    "observations, the algorithm stops and returns the most common label\n",
    "\n",
    "![](attachment:.tikz-2e453a518b650b132e82c25deb7bc9225fd21b05.png)\n",
    "\n",
    "### 2.4.4 In search for $k$\n",
    "\n",
    "Let us now find the best value for $k$.\n",
    "\n",
    "**Exercise:** For each value of $k$ in $1, 2, 5, 10, 50$ and $84$ do the\n",
    "following.\n",
    "\n",
    "1.  Create a new object of type `KNeighborsClassifier`. Be sure to\n",
    "    create your model with `n_neighbors` set to the correct value.\n",
    "    Assign the object to a variable that reflects the number of\n",
    "    neighbors, such as `knn_2`, `knn_5`.\n",
    "2.  Train the model on the training set\n",
    "3.  Calculate the score on the validation set\n",
    "4.  Write the value for $k$ and the validation score down.\n",
    "\n",
    "Finally, use the validation scores to determine which value of $k$ to\n",
    "choose!"
   ],
   "attachments": {
    ".tikz-2e453a518b650b132e82c25deb7bc9225fd21b05.png": {
     "image/png": "[encoded data removed]"
    }
   }
  },
  {
   "cell_type": "code",
   "execution_count": null,
   "metadata": {},
   "outputs": [],
   "source": [
    "# Your answer here"
   ]
  },
  {
   "cell_type": "markdown",
   "metadata": {},
   "source": [
    "### 2.4.5 Getting our model ready for production\n",
    "\n",
    "Having decided on our value for $k$. We wish to estimate its\n",
    "generalisation performance. We cannot use the training or validation set\n",
    "for this, as they have been used to select the model. So we will do the\n",
    "following\n",
    "\n",
    "1.  Train a new model on `iris_X_tv` and `iris_y_tv` (that is, we now\n",
    "    combine the training and validation set and use that for training)\n",
    "2.  Assess it performance on the test set (`iris_X_test` and\n",
    "    `iris_y_test`)\n",
    "\n",
    "**Exercise:** For your choice of $k$, estimate the generalisation\n",
    "performance on the test set. Does the performance on the test set agree\n",
    "with the results on the validation set."
   ]
  },
  {
   "cell_type": "code",
   "execution_count": null,
   "metadata": {},
   "outputs": [],
   "source": [
    "# Your answer here"
   ]
  },
  {
   "cell_type": "markdown",
   "metadata": {},
   "source": [
    "## 2.5 Where to go from here\n",
    "\n",
    "In this section we searched for a suitable variant of the $k$-nearest\n",
    "neighbour algorithm by optimising the performance on the validation set.\n",
    "Having found a value for $k$, we used the totality of test and\n",
    "validation data to produce a new model. The generalisation performance\n",
    "of this model was estimated using the test set.\n",
    "\n",
    "We are now ready to take our model into production. For this, we would\n",
    "train the model once more on the entire dataset. This way, we use all\n",
    "information at hand.\n",
    "\n",
    "*But…* while we carefully selected a value for hyperparameter $k$, we\n",
    "did not investigate any other algorithms. In practice, we would use the\n",
    "validation score, not only to tune hyperparameters, but also to select\n",
    "an algorithm.\n",
    "\n",
    "# 3 Regression\n",
    "\n",
    "In this section we will build a regression model. The procedure does not\n",
    "change much. Regression models are imported and trained in the same way.\n",
    "That is one of the benefits of using scikit-learn. All algorithms share\n",
    "a common interface.\n",
    "\n",
    "There is one thing that classification and regression models cannot\n",
    "share: their performance measure.\n",
    "\n",
    "## 3.1 Measuring performance\n",
    "\n",
    "In the last section we saw that the\n",
    "[`score`](https://scikit-learn.org/stable/modules/generated/sklearn.neighbors.score)\n",
    "method for a classification model returns the accuracy, the ratio of\n",
    "correctly classified instances. This measure makes no sense for\n",
    "regression problems. So instead, for this type of problem, the `score`\n",
    "method returns the *coefficient of determination* or $R^2$ (pronounced\n",
    "as R squared).\n",
    "\n",
    "Like accuracy for classification, the maximum value for $R^2$ is $1$.\n",
    "This value indicates the model correctly predicted the value for all\n",
    "observations.\n",
    "\n",
    "An $R^2$ of 0 indicates the model predicted the average value of all\n",
    "observations. An example, suppose you have a dataset of used car prices.\n",
    "The average used car price is $\\$ 5,000$. A model with an $R^2$ of $0$\n",
    "scored as good, as a model that would simply output $\\$ 5,000$ without\n",
    "doing any work whatsoever.\n",
    "\n",
    "It is theoretically possible to obtain a negative $R^2$. This means the\n",
    "model did worse than always predicting the average. Take our car example\n",
    "again. A model with a negative $R^2$ could predict high prices (i.e.,\n",
    "above $\\$5,000$) for cheap cars that actually sold for less than\n",
    "$\\$5,000$. For expensive cars, it would predict cheap prices. Regression\n",
    "models with a negative $R^2$ are best avoided!\n",
    "\n",
    "## 3.2 Your task\n",
    "\n",
    "Below is a map of the kingdom of Dadrivendium. It is known for its sharp\n",
    "cliffs and beautiful meadows. Machilea claims it should be possible to\n",
    "predict the height above sea level for any point in the country. The\n",
    "people of Dadrivendium are skeptical of his claims. They demand proof.\n",
    "\n",
    "A year has passed and Machilea has made a map of Dadrivendium using an\n",
    "altimeter, recording the $x$ and $y$ coordinates and the height at a\n",
    "$1000$ places. The first few measurements can be seen below. He claims\n",
    "he has done the hard work and now asks you to do the last small thing:\n",
    "building a predictive model.\n",
    "\n",
    "| x       | y       | height  |\n",
    "|:--------|:--------|:--------|\n",
    "| $22.7$  | $-18.9$ | $-0.02$ |\n",
    "| $25.3$  | $27.0$  | $0.31$  |\n",
    "| $22.5$  | $-23.1$ | $0.38$  |\n",
    "| $-18.4$ | $-9.5$  | $4.43$  |\n",
    "\n",
    "## 3.3 Let’s get to work!\n",
    "\n",
    "Using a series of measurements of the country’s height above sea level\n",
    "for various $x$ and $y$ coordinates in the kingdom, build a predictive\n",
    "model that can generalise.\n",
    "\n",
    "The data is found in the file `dadrivendium.csv`.\n",
    "\n",
    "**Exercise:** Load the data into a DataFrame `df_dadr`."
   ]
  },
  {
   "cell_type": "code",
   "execution_count": null,
   "metadata": {},
   "outputs": [],
   "source": [
    "# Your answer here"
   ]
  },
  {
   "cell_type": "markdown",
   "metadata": {},
   "source": [
    "**Exercise:** Split the data into a training, validation and test set"
   ]
  },
  {
   "cell_type": "code",
   "execution_count": null,
   "metadata": {},
   "outputs": [],
   "source": [
    "# Your answer here"
   ]
  },
  {
   "cell_type": "markdown",
   "metadata": {},
   "source": [
    "In the next exercise you will be asked to try out various hyperparameter\n",
    "values. A straightforward approach would be to create a separate code\n",
    "cell for each value, but that would result in a large number of near\n",
    "identical cells. This is not only a waste of time, but error-prone as\n",
    "well. The situation is illustrated below:\n",
    "\n",
    "``` python\n",
    "nn1 = KNeighborsClassifier(n_neighbors = 1)\n",
    "nn1.fit(iris_X_tr, iris_y_tr)\n",
    "nn1.score(iris_X_v, iris_y_v)\n",
    "```\n",
    "\n",
    "``` python\n",
    "nn3 = KNeighborsClassifier(n_neighbors = 3)\n",
    "nn3.fit(iris_X_tr, iris_y_tr)\n",
    "nn3.score(iris_X_v, iris_y_v)\n",
    "```\n",
    "\n",
    "``` python\n",
    "nn5 = KNeighborsClassifier(n_neighbors = 5)\n",
    "nn5.fit(iris_X_tr, iris_y_tr)\n",
    "nn5.score(iris_X_v, iris_y_v)\n",
    "```\n",
    "\n",
    "Observe that the only difference between the code cells is the value\n",
    "passed to `n_neighbors`. Let us capture those in a list:"
   ]
  },
  {
   "cell_type": "code",
   "execution_count": null,
   "metadata": {},
   "outputs": [],
   "source": [
    "ks = [1, 3, 5]"
   ]
  },
  {
   "cell_type": "markdown",
   "metadata": {},
   "source": [
    "Now, we can instruct Python to repeat the same code **for** every\n",
    "element in the list:"
   ]
  },
  {
   "cell_type": "code",
   "execution_count": null,
   "metadata": {},
   "outputs": [],
   "source": [
    "for k in ks:\n",
    "    print('Inside the for-loop')\n",
    "    print(k)\n",
    "    \n",
    "print('Outside the for-loop')"
   ]
  },
  {
   "cell_type": "markdown",
   "metadata": {},
   "source": [
    "**Exercise:** Analyse the code cell above. What output do you expect.\n",
    "Run the cell. Does the result match your expectation?\n",
    "\n",
    "You can “nest” for-loops. For instance, the behaviour of\n",
    "[`KNeighborsClassifier`](https://scikit-learn.org/stable/modules/generated/sklearn.neighbors.KNeighborsClassifier)\n",
    "and\n",
    "[`KNeighborsRegressor`](https://scikit-learn.org/stable/modules/generated/sklearn.neighbors.KNeighborsRegressor)\n",
    "can be controlled via the `weights` parameter. If we want try out\n",
    "several combinations of both `n_neighbors` and `weights` we could\n",
    "combine two loops:"
   ]
  },
  {
   "cell_type": "code",
   "execution_count": null,
   "metadata": {},
   "outputs": [],
   "source": [
    "for k in ks:\n",
    "    for w in ['uniform', 'distance']:\n",
    "        knn = KNeighborsClassifier(n_neighbors = k, weights = w)\n",
    "        knn.fit(iris_X_tr, iris_y_tr);\n",
    "        print(k, w, knn.score(iris_X_v, iris_y_v))"
   ]
  },
  {
   "cell_type": "markdown",
   "metadata": {},
   "source": [
    "**Exercise:** Estimate the generalisation performance of each of the\n",
    "following combinations of algorithm and hyperparameters. Which\n",
    "combination would you pick? Which combination seems the worst?\n",
    "\n",
    "| Algorithm                                                                                                        | Hyperparameters                 |\n",
    "|:-----------------------------------------------------------------------------------------------------------------|:--------------------------------|\n",
    "| [`LinearRegression`](https://scikit-learn.org/stable/modules/generated/sklearn.linear_model.LinearRegression)    | None                            |\n",
    "| [`DecisionTreeRegressor`](https://scikit-learn.org/stable/modules/generated/sklearn.tree.DecisionTreeRegressor)  | `max_depth`, `min_samples_leaf` |\n",
    "| [`KNeighborsRegressor`](https://scikit-learn.org/stable/modules/generated/sklearn.neighbors.KNeighborsRegressor) | `n_neighbors`                   |"
   ]
  },
  {
   "cell_type": "code",
   "execution_count": null,
   "metadata": {},
   "outputs": [],
   "source": [
    "# Your answer here"
   ]
  },
  {
   "cell_type": "markdown",
   "metadata": {},
   "source": [
    "**Exercise:** Train your best candidate on the entire dataset. Assign\n",
    "the result to `the_model`."
   ]
  },
  {
   "cell_type": "code",
   "execution_count": null,
   "metadata": {},
   "outputs": [],
   "source": [
    "# Your answer here"
   ]
  },
  {
   "cell_type": "markdown",
   "metadata": {},
   "source": [
    "**Exercise:** Run the code cell below. **You do not have to understand\n",
    "this code**. The result should your models predicted map of the kingdom!"
   ]
  },
  {
   "cell_type": "code",
   "execution_count": null,
   "metadata": {},
   "outputs": [],
   "source": [
    "import numpy as np\n",
    "import matplotlib.pyplot as plt\n",
    "xs = np.linspace(-30, 30, 100)\n",
    "ys = np.linspace(-30, 30, 100)\n",
    "xv, yv = np.meshgrid(xs, ys)\n",
    "zv = the_model.predict(np.column_stack((xv.ravel(), yv.ravel()))).reshape(xv.shape)\n",
    "\n",
    "fig, ax = plt.subplots(subplot_kw={\"projection\": \"3d\"},figsize=(10,10))\n",
    "ax.plot_surface(xv, yv, zv, cmap='terrain')\n",
    "# Set the camera to a predetermined position\n",
    "ax.view_init(elev=40, azim=137)\n",
    "# Make background black\n",
    "ax.set_facecolor((0, 0, 0))\n",
    "plt.axis('off');"
   ]
  },
  {
   "cell_type": "markdown",
   "metadata": {},
   "source": [
    "**Exercise:** Repeat the previous two exercises with the worst\n",
    "performing model."
   ]
  },
  {
   "cell_type": "code",
   "execution_count": null,
   "metadata": {},
   "outputs": [],
   "source": [
    "# Your answer here"
   ]
  },
  {
   "cell_type": "markdown",
   "metadata": {},
   "source": [
    "**Exercise:** You may have investigated the models built by two\n",
    "different algorithms. That leaves a third category of models to\n",
    "investigate. Feel free to try out how the best model from that category\n",
    "predicts the kingdom looks."
   ]
  },
  {
   "cell_type": "code",
   "execution_count": null,
   "metadata": {},
   "outputs": [],
   "source": [
    "# Your answer here"
   ]
  },
  {
   "cell_type": "markdown",
   "metadata": {},
   "source": [
    "# 4 Homework\n",
    "\n",
    "## 4.1 Finish the lab exercises\n",
    "\n",
    "Finish the exercises from this lab session\n",
    "\n",
    "# 5 Bibliography\n",
    "\n",
    "Dua, Dheeru, and Casey Graff. 2017. “UCI Machine Learning Repository.”\n",
    "University of California, Irvine, School of Information; Computer\n",
    "Sciences. <http://archive.ics.uci.edu/ml>.\n",
    "\n",
    "Fisher, R. A. 1936. “The Use of Multiple Measurements in Taxonomic\n",
    "Problems.” *Annals of Eugenics* 7 (2): 179–88.\n",
    "https://doi.org/<https://doi.org/10.1111/j.1469-1809.1936.tb02137.x>.\n",
    "\n",
    "Stevens, S. S. 1946. “On the Theory of Scales of Measurement.” *Science*\n",
    "103 (2684): 677–80. <https://www.jstor.org/stable/1671815>."
   ]
  }
 ],
 "nbformat": 4,
 "nbformat_minor": 5,
 "metadata": {
  "language_info": {
   "name": "python",
   "nbconvert_exporter": "python",
   "file_extension": ".py",
   "pygments_lexer": "ipython3",
   "mimetype": "text/x-python",
   "version": "3.9.6",
   "codemirror_mode": {
    "name": "ipython",
    "version": "3"
   }
  },
  "kernelspec": {
   "name": "python3",
   "display_name": "Python 3",
   "language": "python"
  }
 }
}
